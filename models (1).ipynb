{
 "cells": [
  {
   "cell_type": "code",
   "execution_count": 1,
   "metadata": {
    "colab": {
     "base_uri": "https://localhost:8080/"
    },
    "executionInfo": {
     "elapsed": 18607,
     "status": "ok",
     "timestamp": 1607664488989,
     "user": {
      "displayName": "Mario Medina",
      "photoUrl": "",
      "userId": "06267997109573635573"
     },
     "user_tz": 480
    },
    "id": "DjJIg_sEhO_F",
    "outputId": "20fa5f7b-3440-4d0e-b898-5f88d41b6e27"
   },
   "outputs": [
    {
     "name": "stdout",
     "output_type": "stream",
     "text": [
      "Mounted at /content/drive/\n"
     ]
    }
   ],
   "source": [
    "from google.colab import drive, files\n",
    "drive.mount('/content/drive/', force_remount=True)"
   ]
  },
  {
   "cell_type": "code",
   "execution_count": 1,
   "metadata": {
    "executionInfo": {
     "elapsed": 3818,
     "status": "ok",
     "timestamp": 1607664490244,
     "user": {
      "displayName": "Mario Medina",
      "photoUrl": "",
      "userId": "06267997109573635573"
     },
     "user_tz": 480
    },
    "id": "KG6oQq0QhY-A"
   },
   "outputs": [],
   "source": [
    "import os\n",
    "import unicodedata\n",
    "import seaborn as sns\n",
    "import matplotlib.pyplot as plt\n",
    "import pandas as pd\n",
    "import numpy as np\n",
    "import xgboost as xgb\n",
    "import ast \n",
    "import sklearn.metrics\n",
    "from sklearn.model_selection import RandomizedSearchCV\n",
    "from sklearn.model_selection import StratifiedKFold"
   ]
  },
  {
   "cell_type": "code",
   "execution_count": 2,
   "metadata": {
    "executionInfo": {
     "elapsed": 1182,
     "status": "ok",
     "timestamp": 1607664490247,
     "user": {
      "displayName": "Mario Medina",
      "photoUrl": "",
      "userId": "06267997109573635573"
     },
     "user_tz": 480
    },
    "id": "w53YIwlzhjtz"
   },
   "outputs": [],
   "source": [
    "root_path = os.path.join(os.getcwd(), \"drive\", \"My Drive/orie4741 final\") # replace based on your Google drive organization\n",
    "dataset_path = os.path.join(root_path, \"data/\") # same here"
   ]
  },
  {
   "cell_type": "markdown",
   "metadata": {},
   "source": [
    "# We create a dataframe of our cleaned data"
   ]
  },
  {
   "cell_type": "code",
   "execution_count": 690,
   "metadata": {
    "colab": {
     "base_uri": "https://localhost:8080/",
     "height": 779
    },
    "executionInfo": {
     "elapsed": 1981,
     "status": "ok",
     "timestamp": 1607664491965,
     "user": {
      "displayName": "Mario Medina",
      "photoUrl": "",
      "userId": "06267997109573635573"
     },
     "user_tz": 480
    },
    "id": "io-OXw1OGOrc",
    "outputId": "6b26caad-0137-4ec7-8400-b7401fa8d3ca"
   },
   "outputs": [
    {
     "data": {
      "text/html": [
       "<div>\n",
       "<style scoped>\n",
       "    .dataframe tbody tr th:only-of-type {\n",
       "        vertical-align: middle;\n",
       "    }\n",
       "\n",
       "    .dataframe tbody tr th {\n",
       "        vertical-align: top;\n",
       "    }\n",
       "\n",
       "    .dataframe thead th {\n",
       "        text-align: right;\n",
       "    }\n",
       "</style>\n",
       "<table border=\"1\" class=\"dataframe\">\n",
       "  <thead>\n",
       "    <tr style=\"text-align: right;\">\n",
       "      <th></th>\n",
       "      <th>Unnamed: 0</th>\n",
       "      <th>acousticness</th>\n",
       "      <th>artists</th>\n",
       "      <th>danceability</th>\n",
       "      <th>duration_ms</th>\n",
       "      <th>energy</th>\n",
       "      <th>explicit</th>\n",
       "      <th>id</th>\n",
       "      <th>instrumentalness</th>\n",
       "      <th>key</th>\n",
       "      <th>...</th>\n",
       "      <th>loudness</th>\n",
       "      <th>mode</th>\n",
       "      <th>name</th>\n",
       "      <th>popularity</th>\n",
       "      <th>release_date</th>\n",
       "      <th>speechiness</th>\n",
       "      <th>tempo</th>\n",
       "      <th>valence</th>\n",
       "      <th>year</th>\n",
       "      <th>is_success</th>\n",
       "    </tr>\n",
       "  </thead>\n",
       "  <tbody>\n",
       "    <tr>\n",
       "      <th>0</th>\n",
       "      <td>6054</td>\n",
       "      <td>0.97200</td>\n",
       "      <td>['David Bauer']</td>\n",
       "      <td>0.567</td>\n",
       "      <td>313293</td>\n",
       "      <td>0.227</td>\n",
       "      <td>0</td>\n",
       "      <td>0w0D8H1ubRerCXHWYJkinO</td>\n",
       "      <td>0.601000</td>\n",
       "      <td>10</td>\n",
       "      <td>...</td>\n",
       "      <td>-13.441</td>\n",
       "      <td>1</td>\n",
       "      <td>Shout to the Lord</td>\n",
       "      <td>47</td>\n",
       "      <td>2000</td>\n",
       "      <td>0.0290</td>\n",
       "      <td>136.123</td>\n",
       "      <td>0.0396</td>\n",
       "      <td>2000</td>\n",
       "      <td>0</td>\n",
       "    </tr>\n",
       "    <tr>\n",
       "      <th>1</th>\n",
       "      <td>6055</td>\n",
       "      <td>0.32100</td>\n",
       "      <td>['Etta James']</td>\n",
       "      <td>0.821</td>\n",
       "      <td>360240</td>\n",
       "      <td>0.418</td>\n",
       "      <td>0</td>\n",
       "      <td>4JVeqfE2tpi7Pv63LJZtPh</td>\n",
       "      <td>0.000372</td>\n",
       "      <td>9</td>\n",
       "      <td>...</td>\n",
       "      <td>-9.841</td>\n",
       "      <td>0</td>\n",
       "      <td>Miss You</td>\n",
       "      <td>51</td>\n",
       "      <td>2000-12-12</td>\n",
       "      <td>0.0407</td>\n",
       "      <td>117.382</td>\n",
       "      <td>0.8030</td>\n",
       "      <td>2000</td>\n",
       "      <td>0</td>\n",
       "    </tr>\n",
       "    <tr>\n",
       "      <th>2</th>\n",
       "      <td>6056</td>\n",
       "      <td>0.00659</td>\n",
       "      <td>['Quasimoto']</td>\n",
       "      <td>0.706</td>\n",
       "      <td>202507</td>\n",
       "      <td>0.602</td>\n",
       "      <td>1</td>\n",
       "      <td>5pxtdhLAi0RTh1gNqhGMNA</td>\n",
       "      <td>0.000138</td>\n",
       "      <td>11</td>\n",
       "      <td>...</td>\n",
       "      <td>-8.306</td>\n",
       "      <td>0</td>\n",
       "      <td>Real Eyes</td>\n",
       "      <td>44</td>\n",
       "      <td>2000-06-13</td>\n",
       "      <td>0.3420</td>\n",
       "      <td>89.692</td>\n",
       "      <td>0.4790</td>\n",
       "      <td>2000</td>\n",
       "      <td>0</td>\n",
       "    </tr>\n",
       "    <tr>\n",
       "      <th>3</th>\n",
       "      <td>6057</td>\n",
       "      <td>0.00390</td>\n",
       "      <td>['Millencolin']</td>\n",
       "      <td>0.368</td>\n",
       "      <td>173360</td>\n",
       "      <td>0.977</td>\n",
       "      <td>0</td>\n",
       "      <td>3jRsoe4Vkxa4BMYqGHX8L0</td>\n",
       "      <td>0.000000</td>\n",
       "      <td>11</td>\n",
       "      <td>...</td>\n",
       "      <td>-2.757</td>\n",
       "      <td>0</td>\n",
       "      <td>Penguins &amp; Polarbears</td>\n",
       "      <td>52</td>\n",
       "      <td>2000-02-22</td>\n",
       "      <td>0.1270</td>\n",
       "      <td>165.889</td>\n",
       "      <td>0.5480</td>\n",
       "      <td>2000</td>\n",
       "      <td>0</td>\n",
       "    </tr>\n",
       "    <tr>\n",
       "      <th>4</th>\n",
       "      <td>6058</td>\n",
       "      <td>0.12200</td>\n",
       "      <td>['Steve Chou']</td>\n",
       "      <td>0.501</td>\n",
       "      <td>344200</td>\n",
       "      <td>0.511</td>\n",
       "      <td>0</td>\n",
       "      <td>4mronxcllhfyhBRqyZi8kU</td>\n",
       "      <td>0.000000</td>\n",
       "      <td>7</td>\n",
       "      <td>...</td>\n",
       "      <td>-9.836</td>\n",
       "      <td>0</td>\n",
       "      <td>黃昏</td>\n",
       "      <td>53</td>\n",
       "      <td>2000-12-25</td>\n",
       "      <td>0.0291</td>\n",
       "      <td>78.045</td>\n",
       "      <td>0.1130</td>\n",
       "      <td>2000</td>\n",
       "      <td>0</td>\n",
       "    </tr>\n",
       "    <tr>\n",
       "      <th>...</th>\n",
       "      <td>...</td>\n",
       "      <td>...</td>\n",
       "      <td>...</td>\n",
       "      <td>...</td>\n",
       "      <td>...</td>\n",
       "      <td>...</td>\n",
       "      <td>...</td>\n",
       "      <td>...</td>\n",
       "      <td>...</td>\n",
       "      <td>...</td>\n",
       "      <td>...</td>\n",
       "      <td>...</td>\n",
       "      <td>...</td>\n",
       "      <td>...</td>\n",
       "      <td>...</td>\n",
       "      <td>...</td>\n",
       "      <td>...</td>\n",
       "      <td>...</td>\n",
       "      <td>...</td>\n",
       "      <td>...</td>\n",
       "      <td>...</td>\n",
       "    </tr>\n",
       "    <tr>\n",
       "      <th>19995</th>\n",
       "      <td>168804</td>\n",
       "      <td>0.00303</td>\n",
       "      <td>['Hannah Montana']</td>\n",
       "      <td>0.720</td>\n",
       "      <td>155600</td>\n",
       "      <td>0.913</td>\n",
       "      <td>0</td>\n",
       "      <td>5J0d605KKCz4x8zbUKTaPe</td>\n",
       "      <td>0.000062</td>\n",
       "      <td>7</td>\n",
       "      <td>...</td>\n",
       "      <td>-3.670</td>\n",
       "      <td>1</td>\n",
       "      <td>Let's Get Crazy</td>\n",
       "      <td>52</td>\n",
       "      <td>2009-01-01</td>\n",
       "      <td>0.0491</td>\n",
       "      <td>124.997</td>\n",
       "      <td>0.8000</td>\n",
       "      <td>2009</td>\n",
       "      <td>1</td>\n",
       "    </tr>\n",
       "    <tr>\n",
       "      <th>19996</th>\n",
       "      <td>168805</td>\n",
       "      <td>0.01310</td>\n",
       "      <td>['Eminem']</td>\n",
       "      <td>0.635</td>\n",
       "      <td>304907</td>\n",
       "      <td>0.712</td>\n",
       "      <td>1</td>\n",
       "      <td>1PokNDiTBQZgXci6rn2BVE</td>\n",
       "      <td>0.000000</td>\n",
       "      <td>4</td>\n",
       "      <td>...</td>\n",
       "      <td>-5.151</td>\n",
       "      <td>0</td>\n",
       "      <td>Music Box</td>\n",
       "      <td>52</td>\n",
       "      <td>2009-05-15</td>\n",
       "      <td>0.1100</td>\n",
       "      <td>78.598</td>\n",
       "      <td>0.4580</td>\n",
       "      <td>2009</td>\n",
       "      <td>1</td>\n",
       "    </tr>\n",
       "    <tr>\n",
       "      <th>19997</th>\n",
       "      <td>168806</td>\n",
       "      <td>0.08730</td>\n",
       "      <td>['Tribal Seeds']</td>\n",
       "      <td>0.746</td>\n",
       "      <td>312200</td>\n",
       "      <td>0.695</td>\n",
       "      <td>0</td>\n",
       "      <td>2mVnrvWkiFTERSE2SL4QZ7</td>\n",
       "      <td>0.000073</td>\n",
       "      <td>1</td>\n",
       "      <td>...</td>\n",
       "      <td>-5.115</td>\n",
       "      <td>0</td>\n",
       "      <td>The Harvest</td>\n",
       "      <td>47</td>\n",
       "      <td>2009-05-26</td>\n",
       "      <td>0.0817</td>\n",
       "      <td>164.022</td>\n",
       "      <td>0.5910</td>\n",
       "      <td>2009</td>\n",
       "      <td>0</td>\n",
       "    </tr>\n",
       "    <tr>\n",
       "      <th>19998</th>\n",
       "      <td>168807</td>\n",
       "      <td>0.01530</td>\n",
       "      <td>['Wisin &amp; Yandel']</td>\n",
       "      <td>0.711</td>\n",
       "      <td>259067</td>\n",
       "      <td>0.860</td>\n",
       "      <td>0</td>\n",
       "      <td>27fNEGLckXrSf9ypb7d0BM</td>\n",
       "      <td>0.000000</td>\n",
       "      <td>8</td>\n",
       "      <td>...</td>\n",
       "      <td>-3.507</td>\n",
       "      <td>1</td>\n",
       "      <td>Te Siento</td>\n",
       "      <td>52</td>\n",
       "      <td>2009-01-01</td>\n",
       "      <td>0.0414</td>\n",
       "      <td>109.946</td>\n",
       "      <td>0.4040</td>\n",
       "      <td>2009</td>\n",
       "      <td>0</td>\n",
       "    </tr>\n",
       "    <tr>\n",
       "      <th>19999</th>\n",
       "      <td>168808</td>\n",
       "      <td>0.02310</td>\n",
       "      <td>['Calvin Harris']</td>\n",
       "      <td>0.618</td>\n",
       "      <td>231133</td>\n",
       "      <td>0.969</td>\n",
       "      <td>0</td>\n",
       "      <td>6ZpEmh8WAxGsr1KYpiFEZb</td>\n",
       "      <td>0.000001</td>\n",
       "      <td>11</td>\n",
       "      <td>...</td>\n",
       "      <td>-6.039</td>\n",
       "      <td>0</td>\n",
       "      <td>You Used To Hold Me</td>\n",
       "      <td>45</td>\n",
       "      <td>2009-08-18</td>\n",
       "      <td>0.0413</td>\n",
       "      <td>128.964</td>\n",
       "      <td>0.1900</td>\n",
       "      <td>2009</td>\n",
       "      <td>0</td>\n",
       "    </tr>\n",
       "  </tbody>\n",
       "</table>\n",
       "<p>20000 rows × 21 columns</p>\n",
       "</div>"
      ],
      "text/plain": [
       "       Unnamed: 0  acousticness             artists  danceability  \\\n",
       "0            6054       0.97200     ['David Bauer']         0.567   \n",
       "1            6055       0.32100      ['Etta James']         0.821   \n",
       "2            6056       0.00659       ['Quasimoto']         0.706   \n",
       "3            6057       0.00390     ['Millencolin']         0.368   \n",
       "4            6058       0.12200      ['Steve Chou']         0.501   \n",
       "...           ...           ...                 ...           ...   \n",
       "19995      168804       0.00303  ['Hannah Montana']         0.720   \n",
       "19996      168805       0.01310          ['Eminem']         0.635   \n",
       "19997      168806       0.08730    ['Tribal Seeds']         0.746   \n",
       "19998      168807       0.01530  ['Wisin & Yandel']         0.711   \n",
       "19999      168808       0.02310   ['Calvin Harris']         0.618   \n",
       "\n",
       "       duration_ms  energy  explicit                      id  \\\n",
       "0           313293   0.227         0  0w0D8H1ubRerCXHWYJkinO   \n",
       "1           360240   0.418         0  4JVeqfE2tpi7Pv63LJZtPh   \n",
       "2           202507   0.602         1  5pxtdhLAi0RTh1gNqhGMNA   \n",
       "3           173360   0.977         0  3jRsoe4Vkxa4BMYqGHX8L0   \n",
       "4           344200   0.511         0  4mronxcllhfyhBRqyZi8kU   \n",
       "...            ...     ...       ...                     ...   \n",
       "19995       155600   0.913         0  5J0d605KKCz4x8zbUKTaPe   \n",
       "19996       304907   0.712         1  1PokNDiTBQZgXci6rn2BVE   \n",
       "19997       312200   0.695         0  2mVnrvWkiFTERSE2SL4QZ7   \n",
       "19998       259067   0.860         0  27fNEGLckXrSf9ypb7d0BM   \n",
       "19999       231133   0.969         0  6ZpEmh8WAxGsr1KYpiFEZb   \n",
       "\n",
       "       instrumentalness  key  ...  loudness  mode                   name  \\\n",
       "0              0.601000   10  ...   -13.441     1      Shout to the Lord   \n",
       "1              0.000372    9  ...    -9.841     0               Miss You   \n",
       "2              0.000138   11  ...    -8.306     0              Real Eyes   \n",
       "3              0.000000   11  ...    -2.757     0  Penguins & Polarbears   \n",
       "4              0.000000    7  ...    -9.836     0                     黃昏   \n",
       "...                 ...  ...  ...       ...   ...                    ...   \n",
       "19995          0.000062    7  ...    -3.670     1        Let's Get Crazy   \n",
       "19996          0.000000    4  ...    -5.151     0              Music Box   \n",
       "19997          0.000073    1  ...    -5.115     0            The Harvest   \n",
       "19998          0.000000    8  ...    -3.507     1              Te Siento   \n",
       "19999          0.000001   11  ...    -6.039     0    You Used To Hold Me   \n",
       "\n",
       "      popularity  release_date speechiness    tempo  valence  year  is_success  \n",
       "0             47          2000      0.0290  136.123   0.0396  2000           0  \n",
       "1             51    2000-12-12      0.0407  117.382   0.8030  2000           0  \n",
       "2             44    2000-06-13      0.3420   89.692   0.4790  2000           0  \n",
       "3             52    2000-02-22      0.1270  165.889   0.5480  2000           0  \n",
       "4             53    2000-12-25      0.0291   78.045   0.1130  2000           0  \n",
       "...          ...           ...         ...      ...      ...   ...         ...  \n",
       "19995         52    2009-01-01      0.0491  124.997   0.8000  2009           1  \n",
       "19996         52    2009-05-15      0.1100   78.598   0.4580  2009           1  \n",
       "19997         47    2009-05-26      0.0817  164.022   0.5910  2009           0  \n",
       "19998         52    2009-01-01      0.0414  109.946   0.4040  2009           0  \n",
       "19999         45    2009-08-18      0.0413  128.964   0.1900  2009           0  \n",
       "\n",
       "[20000 rows x 21 columns]"
      ]
     },
     "execution_count": 690,
     "metadata": {},
     "output_type": "execute_result"
    }
   ],
   "source": [
    "data = pd.read_csv('cleaneddatav3.csv')\n",
    "data"
   ]
  },
  {
   "cell_type": "markdown",
   "metadata": {},
   "source": [
    "# Then, we download the word embeddings (this may take a while)."
   ]
  },
  {
   "cell_type": "code",
   "execution_count": 4,
   "metadata": {
    "colab": {
     "background_save": true,
     "base_uri": "https://localhost:8080/"
    },
    "executionInfo": {
     "elapsed": 206662,
     "status": "ok",
     "timestamp": 1607665195966,
     "user": {
      "displayName": "Mario Medina",
      "photoUrl": "",
      "userId": "06267997109573635573"
     },
     "user_tz": 480
    },
    "id": "KaRf6f4DEk-X"
   },
   "outputs": [
    {
     "name": "stdout",
     "output_type": "stream",
     "text": [
      "--2020-12-10 22:18:16--  http://nlp.stanford.edu/data/glove.twitter.27B.zip\n",
      "Resolving nlp.stanford.edu (nlp.stanford.edu)... 171.64.67.140\n",
      "Connecting to nlp.stanford.edu (nlp.stanford.edu)|171.64.67.140|:80... connected.\n",
      "HTTP request sent, awaiting response... 302 Found\n",
      "Location: https://nlp.stanford.edu/data/glove.twitter.27B.zip [following]\n",
      "--2020-12-10 22:18:16--  https://nlp.stanford.edu/data/glove.twitter.27B.zip\n",
      "Connecting to nlp.stanford.edu (nlp.stanford.edu)|171.64.67.140|:443... connected.\n",
      "HTTP request sent, awaiting response... 301 Moved Permanently\n",
      "Location: http://downloads.cs.stanford.edu/nlp/data/glove.twitter.27B.zip [following]\n",
      "--2020-12-10 22:18:16--  http://downloads.cs.stanford.edu/nlp/data/glove.twitter.27B.zip\n",
      "Resolving downloads.cs.stanford.edu (downloads.cs.stanford.edu)... 171.64.64.22\n",
      "Connecting to downloads.cs.stanford.edu (downloads.cs.stanford.edu)|171.64.64.22|:80... connected.\n",
      "HTTP request sent, awaiting response... 200 OK\n",
      "Length: 1520408563 (1.4G) [application/zip]\n",
      "Saving to: ‘glove.twitter.27B.zip.1’\n",
      "\n",
      "glove.twitter.27B.z 100%[===================>]   1.42G  2.20MB/s    in 14m 43s \n",
      "\n",
      "2020-12-10 22:32:59 (1.64 MB/s) - ‘glove.twitter.27B.zip.1’ saved [1520408563/1520408563]\n",
      "\n"
     ]
    }
   ],
   "source": [
    "!wget http://nlp.stanford.edu/data/glove.twitter.27B.zip"
   ]
  },
  {
   "cell_type": "code",
   "execution_count": null,
   "metadata": {
    "colab": {
     "background_save": true,
     "base_uri": "https://localhost:8080/"
    },
    "id": "zSjjmSTZEoV-"
   },
   "outputs": [
    {
     "name": "stdout",
     "output_type": "stream",
     "text": [
      "Archive:  glove.twitter.27B.zip\r\n",
      "replace glove.twitter.27B.25d.txt? [y]es, [n]o, [A]ll, [N]one, [r]ename: "
     ]
    }
   ],
   "source": [
    "!unzip glove.twitter.27B.zip"
   ]
  },
  {
   "cell_type": "code",
   "execution_count": 4,
   "metadata": {
    "colab": {
     "background_save": true
    },
    "id": "oWcuRi0mE2Cf"
   },
   "outputs": [
    {
     "name": "stdout",
     "output_type": "stream",
     "text": [
      "(MIT-Pappalardo Series in Mechanical Engineering) Gang Chen - Nanoscale Energy Transport and Conversion_ A Parallel Treatment of Electrons, Molecules, Phonons, and Photons-Oxford University Press (200 (1).djvu\r\n",
      "(MIT-Pappalardo Series in Mechanical Engineering) Gang Chen - Nanoscale Energy Transport and Conversion_ A Parallel Treatment of Electrons, Molecules, Phonons, and Photons-Oxford University Press (200 (2).djvu\r\n",
      "(MIT-Pappalardo Series in Mechanical Engineering) Gang Chen - Nanoscale Energy Transport and Conversion_ A Parallel Treatment of Electrons, Molecules, Phonons, and Photons-Oxford University Press (200.djvu\r\n",
      "01 Intro and Solar lecture.pptx\r\n",
      "040605.pdf\r\n",
      "1-s2.0-S0379677918304077-main.pdf\r\n",
      "1-s2.0-S0927024819306130-main.pdf\r\n",
      "1-s2.0-S0927025619301922-main.pdf\r\n",
      "1-s2.0-S2211285520309575-main.pdf\r\n",
      "1-s2.0-S2211285520311204-main (1).pdf\r\n",
      "1-s2.0-S2211285520311204-main.pdf\r\n",
      "1-s2.0-S2352847817300515-main.pdf\r\n",
      "1-s2.0-S2542435119302570-main (1).pdf\r\n",
      "1-s2.0-S2542435119302570-main.pdf\r\n",
      "1807.08012.pdf\r\n",
      "1811.06219.pdf\r\n",
      "1976_Bookmatter_PhononScatteringInSolids.pdf\r\n",
      "1993_Book_PhononsInSemiconductorNanostru.pdf\r\n",
      "2004.14766.pdf\r\n",
      "2006.14302.pdf\r\n",
      "2006.16420.pdf\r\n",
      "2010.03702.pdf\r\n",
      "2014_CH001text_040314 (1).pdf\r\n",
      "2014_CH001text_040314 (2).pdf\r\n",
      "2014_CH001text_040314 (3).pdf\r\n",
      "2014_CH001text_040314 (4).pdf\r\n",
      "2014_CH001text_040314.pdf\r\n",
      "2014_CH002text_040314.pdf\r\n",
      "2016_Book_ThermalTransportInLowDimension.pdf\r\n",
      "2020 Checklist for Incoming MS students copy 2.pdf\r\n",
      "2020 Checklist for Incoming MS students.pdf\r\n",
      "\u001b[34m3-320-spring-2005\u001b[m\u001b[m\r\n",
      "3320_lab2.zip\r\n",
      "3KEAGBD5.pdf\r\n",
      "417 E BUFFALO LEASE SIGNED-1.png\r\n",
      "417 E BUFFALO LEASE SIGNED.png\r\n",
      "4510745.cif\r\n",
      "4827061.pdf\r\n",
      "50thanniv_program.pdf\r\n",
      "5330 syllabus 2020 (1).docx\r\n",
      "5330 syllabus 2020.docx\r\n",
      "Artificial Chemist_ An Autonomous Quantum Dot Synt..._ Get it! Cornell.pdf\r\n",
      "\u001b[34mBURAI1.3 2.app\u001b[m\u001b[m\r\n",
      "\u001b[34mBURAI1.3.app\u001b[m\u001b[m\r\n",
      "BURAI1.3_MacOSX.zip\r\n",
      "Cahill_NTT_2003.pdf\r\n",
      "Cahill_NTT_2014.pdf\r\n",
      "Certificate of Completion for Title IX and Sexual Harassment Prevention (Custom).pdf\r\n",
      "Confidentiality Agreement (University).pdf\r\n",
      "Confidentiality Agreement.pdf\r\n",
      "CsPbBr3-001.in\r\n",
      "DFT1.odp\r\n",
      "DataGather.ipynb\r\n",
      "Diffuse Scattering and the Fundamental Properties of Materials.pdf\r\n",
      "Doc Dec 09, 2020, 11:22.pdf\r\n",
      "Doc Nov 13, 2020, 14:15.pdf\r\n",
      "Drops.pdf\r\n",
      "EDA (1).ipynb\r\n",
      "EDA (2).ipynb\r\n",
      "EDA (3).ipynb\r\n",
      "EDA.ipynb\r\n",
      "\u001b[34mEarl Sweatshirt - Earl (DatPiff.com)\u001b[m\u001b[m\r\n",
      "El99C1-XgAAnNkp.jpeg\r\n",
      "Electrons and Phonons_ The Theory of Transport Phenomena in Solids ( PDFDrive ).djvu\r\n",
      "Electrons and Phonons_ The Theory of Transport Phenomena in Solids ( PDFDrive ).pdf\r\n",
      "Enhanced Reader.pdf\r\n",
      "Extreme learning machine and swarm-based support vector regression methods for predicting crystal lattice parameters of pseudo-cubic_cubic perovskites _ Enhanced Reader.pdf\r\n",
      "First_principles_phonon_calculations_in_materials_.pdf\r\n",
      "Fu_2015_J._Phys.__Conf._Ser._574_012046.pdf\r\n",
      "Fundamentals_of_Materials_for_Energy_and_Environme..._----_(PART_3_Renewable_energy_sources_).pdf\r\n",
      "GeTe_mp-2612_primitive.cif\r\n",
      "GeTe_mp-938_primitive.cif\r\n",
      "GetTRDoc.pdf\r\n",
      "GoTo Opener (1).dmg\r\n",
      "GoTo Opener.dmg\r\n",
      "HW0 Ch. 17 Reading Questions Solutions.docx\r\n",
      "HW0 on Nate Lewis energy talks Rev.1 (1).docx\r\n",
      "HW0 on Nate Lewis energy talks answers.docx\r\n",
      "HW1_Solutions.pdf\r\n",
      "HW2 Solutions and Rubric.pdf\r\n",
      "HW2_MSE4330_v1.docx\r\n",
      "Heat Cond. Sim. Review.pdf\r\n",
      "IMG_7565.HEIC\r\n",
      "Inkscape-1.0.0.dmg\r\n",
      "Inventions and Related Property Rights Assignment Form 2020.pdf\r\n",
      "\u001b[34mJ Cole - Friday Night Lights (DatPiff.com)\u001b[m\u001b[m\r\n",
      "JMT - Itinerary (1).pdf\r\n",
      "JMT - Itinerary.pdf\r\n",
      "KITP 2007 Video Nate Lewis Caltech (1).mp4\r\n",
      "KITP 2007 Video Nate Lewis Caltech.mp4\r\n",
      "Kanye_West-Freshmen_Adjustment.zip\r\n",
      "Kanye_West_Cant_Tell_Me_Nothing.zip\r\n",
      "L1_Electron_and_Phonon_Dispersion_v2.pdf\r\n",
      "\u001b[34mLab2\u001b[m\u001b[m\r\n",
      "Lease1.png\r\n",
      "Lease2.pdf\r\n",
      "Lec19 3D dispersion of phonons .pdf\r\n",
      "Lecture notes on Brillouin zones.pdf\r\n",
      "Lecture05e Anharmonic Effects 2.ppt\r\n",
      "Lecture13-reciprocal lattice Sep 28, 2020.pdf\r\n",
      "Lindsay-Polanco2018_ReferenceWorkEntry_ThermalTransportByFirst-Princi.pdf\r\n",
      "ML Accelerated Solar Photocat.pdf\r\n",
      "ML in SS-MatSci Review (1).pdf\r\n",
      "ML in SS-MatSci Review.pdf\r\n",
      "MSE 5330, HW0 Video.docx\r\n",
      "MSE 5330, HW0 Video.pdf\r\n",
      "MSE2610 Fall2020 PS2.pdf\r\n",
      "MSE5330 term paper guidlines and format 2020.docx\r\n",
      "MSE_5330_Term_Paper.pdf\r\n",
      "MSE_HW4.pdf\r\n",
      "Mario Immunizations.pdf\r\n",
      "Mario lab pic.jpg\r\n",
      "Medina, Mario Resume (1).pdf\r\n",
      "Medina, Mario Resume (2).pdf\r\n",
      "Medina, Mario Resume.pdf\r\n",
      "Medina, Mario Resume102120.pdf\r\n",
      "Medina_Mario food.pdf\r\n",
      "Medina_Mario_Resume.pdf\r\n",
      "Mendeley-Desktop-1.19.4-OSX-Universal.dmg\r\n",
      "MidtermPlots (1).ipynb\r\n",
      "MidtermPlots.ipynb\r\n",
      "NYC_PAPER2.html\r\n",
      "NYC_Paper1.html\r\n",
      "Nanoscale Comp to Exp.pdf\r\n",
      "New_Science_Study_Findings_Hav.pdf\r\n",
      "\u001b[34mORIE 4741 Final Project\u001b[m\u001b[m\r\n",
      "\u001b[34mORIE 4741 Final Project 2\u001b[m\u001b[m\r\n",
      "ORIE 4741 Final Project.zip\r\n",
      "\u001b[34mORIE HW1\u001b[m\u001b[m\r\n",
      "ORIEHW4_final.pdf\r\n",
      "ORIE_4741_Final_Project (1).pdf\r\n",
      "ORIE_4741_Final_Project (2).pdf\r\n",
      "ORIE_4741_Final_Project.pdf\r\n",
      "ORIE_HW4.pdf\r\n",
      "ORIE_HW_5.pdf\r\n",
      "Oba_2018_Appl._Phys._Express_11_060101.pdf\r\n",
      "OldSchool.dmg\r\n",
      "On_the_Use_of_GPUs_in_Density_Functional_Theory_At.pdf\r\n",
      "P63mmc_2H_alpha_In2Se3_self-built.cif\r\n",
      "POTCAR\r\n",
      "Photo Release Form.pdf\r\n",
      "PhysRevB.82.134535.pdf\r\n",
      "Plot1 ORIE\r\n",
      "Plot2 ORIE\r\n",
      "Plot3 ORIE\r\n",
      "Plot3 ORIE.png\r\n",
      "Plot4 ORIE\r\n",
      "\u001b[34mPython Course Master\u001b[m\u001b[m\r\n",
      "\u001b[34mQE_Sample_Input_Files\u001b[m\u001b[m\r\n",
      "QE_Sample_Input_Files.zip\r\n",
      "\u001b[34mQuantum-Espresso-Tutorial-2019-Projects-master\u001b[m\u001b[m\r\n",
      "Quantum-Espresso-Tutorial-2019-Projects-master.zip\r\n",
      "Quick-introduction-to-DFT.pdf\r\n",
      "README\r\n",
      "RSASecurIDTokenMacOS421_admin_guide.pdf\r\n",
      "Ramamurti_Shankar_Principles_of_Quantum.pdf\r\n",
      "Resume for AMRC Assistant (1).pdf\r\n",
      "Resume for AMRC Assistant.pdf\r\n",
      "Resume_website (1).pdf\r\n",
      "Resume_website.pdf\r\n",
      "Richard-Robinson-general-CV.docx\r\n",
      "Richard_M._Martin_Electronic_Structure__Basic_Thz-lib.org.pdf\r\n",
      "S2352847817300515 (1).ris\r\n",
      "S2352847817300515.ris\r\n",
      "SUN-k12-SKL15-electrolysis.pdf\r\n",
      "\u001b[34mShengBTE\u001b[m\u001b[m\r\n",
      "ShengBTE-v1.1.1-8a63749.tar.bz2\r\n",
      "Slack-4.9.0-macOS.dmg\r\n",
      "Speed Dating Data.csv\r\n",
      "SpotifyInstaller.zip\r\n",
      "Sublime Text Build 3211.dmg\r\n",
      "TE Paper 1.pdf\r\n",
      "\u001b[34mTensorFlow_FILES\u001b[m\u001b[m\r\n",
      "TensorFlow_FILES (1).zip\r\n",
      "TensorFlow_FILES (2).zip\r\n",
      "\u001b[34mTensorFlow_FILES 2\u001b[m\u001b[m\r\n",
      "\u001b[34mTensorFlow_FILES 3\u001b[m\u001b[m\r\n",
      "TensorFlow_FILES.zip\r\n",
      "Tian, HT in TE Materials and Dev (1).pdf\r\n",
      "Tian, HT in TE Materials and Dev.pdf\r\n",
      "Tian, New Horizons in TEM.pdf\r\n",
      "Unofficial Transcript - Printable Version.pdf\r\n",
      "Untitled.ipynb\r\n",
      "Untitled1.ipynb\r\n",
      "VESTA (1).dmg\r\n",
      "VESTA.dmg\r\n",
      "VSCode-darwin-stable (1).zip\r\n",
      "Vesuvianite-quasicrystals.pdf\r\n",
      "Vidyasagar2018_Article_RecentAdvancesInSynthesisAndPr.pdf\r\n",
      "\u001b[34mVisual Studio Code 2.app\u001b[m\u001b[m\r\n",
      "\u001b[34mVisual Studio Code.app\u001b[m\u001b[m\r\n",
      "Week3HW_S15_Solutions.pdf\r\n",
      "XGBoost_ORIE (1).ipynb\r\n",
      "XGBoost_ORIE.ipynb\r\n",
      "XGBoost_ORIE_dt (1).ipynb\r\n",
      "XGBoost_ORIE_dt (2).ipynb\r\n",
      "XGBoost_ORIE_dt.ipynb\r\n",
      "[21928614 - Nanophotonics] Predictive and generative machine learning models for photonic crystals.pdf\r\n",
      "_$ONOPY INSTRUCTIONS.docx\r\n",
      "acsami.0c14595.pdf\r\n",
      "airbnb-use-embeddings (1).zip\r\n",
      "airbnb-use-embeddings.zip\r\n",
      "applsci-08-01569.pdf\r\n",
      "archive.zip\r\n",
      "band_path.pdf\r\n",
      "bandlab-assistant-windows-latest.exe\r\n",
      "best-research-cell-efficiencies.2020 08 03 (1).pdf\r\n",
      "best-research-cell-efficiencies.2020 08 03 (2).pdf\r\n",
      "best-research-cell-efficiencies.2020 08 03.pdf\r\n",
      "\u001b[34mburai-ver.1.3.2\u001b[m\u001b[m\r\n",
      "burai-ver.1.3.2.tar.gz\r\n",
      "certificate.pdf\r\n",
      "cheatsheet.pdf\r\n",
      "chemists-guide-to-density-functional-theory (1).pdf\r\n",
      "chen-nanostructures.pdf\r\n",
      "\u001b[34mclang+llvm-10.0.0-x86_64-apple-darwin\u001b[m\u001b[m\r\n",
      "clang+llvm-10.0.0-x86_64-apple-darwin.tar.xz\r\n",
      "cleaneddata (1).csv\r\n",
      "cleaneddata (2).csv\r\n",
      "cleaneddata.csv\r\n",
      "cleaneddata2000sv3.csv\r\n",
      "cleaneddata2010sv1.csv\r\n",
      "cleaneddatav3 (1).csv\r\n",
      "cleaneddatav3.csv\r\n",
      "\u001b[34md3q-1.1.7-qe6.6\u001b[m\u001b[m\r\n",
      "\u001b[34md3q-1.1.7-qe6.6 (1)\u001b[m\u001b[m\r\n",
      "d3q-1.1.7-qe6.6 (1).tgz\r\n",
      "\u001b[34md3q-1.1.7-qe6.6 (2)\u001b[m\u001b[m\r\n",
      "d3q-1.1.7-qe6.6 (2).tgz\r\n",
      "\u001b[34md3q-1.1.7-qe6.6 2\u001b[m\u001b[m\r\n",
      "d3q-1.1.7-qe6.6.tgz\r\n",
      "data.csv.zip\r\n",
      "data.zip\r\n",
      "\u001b[34mdata_matcloud\u001b[m\u001b[m\r\n",
      "\u001b[34mdemos-master\u001b[m\u001b[m\r\n",
      "demos-master.zip\r\n",
      "dotProductsmall.dcr\r\n",
      "download.png\r\n",
      "eGEM 2.0 Resume Template (1).pptx\r\n",
      "eGEM 2.0 Resume Template.pptx\r\n",
      "eScholarship UC item 0j64t2hz.pdf\r\n",
      "\u001b[34mespresso+d3q\u001b[m\u001b[m\r\n",
      "espresso+d3q-2020-02-25.tgz\r\n",
      "frank_ocean_nostalgiaultra.zip\r\n",
      "gcc-8.3-bin.tar.gz\r\n",
      "gcc-9.2-bin.tar.gz\r\n",
      "\u001b[34mgetting-started-02-first-app-done\u001b[m\u001b[m\r\n",
      "gimp-2.10.14-x86_64-1.dmg\r\n",
      "globusconnectpersonal-latest (1).dmg\r\n",
      "globusconnectpersonal-latest.dmg\r\n",
      "glove.twitter.27B.100d.txt\r\n",
      "glove.twitter.27B.200d.txt\r\n",
      "glove.twitter.27B.25d.txt\r\n",
      "glove.twitter.27B.50d.txt\r\n",
      "glove.twitter.27B.zip\r\n",
      "glove.twitter.27B.zip.1\r\n",
      "\u001b[34mhomework-master\u001b[m\u001b[m\r\n",
      "homework-master.zip\r\n",
      "image.jpg\r\n",
      "impact-of-strain-relaxation-on-performance-of-α-formamidinium-lead-iodide-perovskite-solar-cells (1).ris\r\n",
      "impact-of-strain-relaxation-on-performance-of-α-formamidinium-lead-iodide-perovskite-solar-cells.ris\r\n",
      "inf2.12104.pdf\r\n",
      "ja809598r.pdf\r\n",
      "\u001b[34mjdk-15.jdk\u001b[m\u001b[m\r\n",
      "jdk-15_osx-x64_bin.tar.gz\r\n",
      "jre-8u261-macosx-x64.dmg\r\n",
      "main 2.aux\r\n",
      "main 2.log\r\n",
      "main 2.pdf\r\n",
      "main 2.synctex.gz\r\n",
      "\u001b[31mmatlab_R2020a_maci64.dmg\u001b[m\u001b[m\r\n",
      "matlab_R2020a_maci64.dmg.zip\r\n",
      "mixtape (1).zip\r\n",
      "mixtape (10).zip\r\n",
      "mixtape (11).zip\r\n",
      "mixtape (12).zip\r\n",
      "mixtape (2).zip\r\n",
      "mixtape (3).zip\r\n",
      "mixtape (4).zip\r\n",
      "mixtape (5).zip\r\n",
      "mixtape (6).zip\r\n",
      "mixtape (7).zip\r\n",
      "mixtape (8).zip\r\n",
      "mixtape (9).zip\r\n",
      "mixtape.zip\r\n",
      "model.bin\r\n",
      "models (1).ipynb\r\n",
      "models.ipynb\r\n",
      "molecules-25-05215-v2.pdf\r\n",
      "\u001b[34mmy-website-master\u001b[m\u001b[m\r\n",
      "my-website-master.zip\r\n",
      "nasdaqtraded.txt\r\n",
      "orieHW0.eps\r\n",
      "oriehw5-2.pdf\r\n",
      "oriehw5-3.pdf\r\n",
      "original (1).pdf\r\n",
      "original.pdf\r\n",
      "original.zip\r\n",
      "pbnm-CsPbBr3.cif\r\n",
      "pbnm-CsPbBr3.vesta\r\n",
      "perceptron.ipynb\r\n",
      "phonon cal in quantum espresso&files (1).pptx\r\n",
      "phonon cal in quantum espresso&files.pptx\r\n",
      "phononcalinquantumespresso.pdf\r\n",
      "\u001b[34mphonopy-1.10.10\u001b[m\u001b[m\r\n",
      "phonopy-1.10.10.tar.gz\r\n",
      "po5148.pdf\r\n",
      "preprints201811.0259.v1.pdf\r\n",
      "problem set 1-2020 (1).pdf\r\n",
      "problem set 1-2020 (2).pdf\r\n",
      "problem set 1-2020.pdf\r\n",
      "problem set 2-2020.pdf\r\n",
      "problem set 5-2020-1.pdf\r\n",
      "pycharm-community-2020.1.1.dmg\r\n",
      "q-e-develop.tar.gz\r\n",
      "q-e-qe-6.6.tar.gz\r\n",
      "\u001b[34mqe-6.6\u001b[m\u001b[m\r\n",
      "qe-6.6-ReleasePack.tgz\r\n",
      "quantum theory of harmonic crystal.pdf\r\n",
      "quantum_mobile_20.06.1.ova\r\n",
      "rootpath\r\n",
      "s1.xyz\r\n",
      "s41467-018-05761-w.pdf\r\n",
      "s41567-019-0520-x.pdf\r\n",
      "s42005-020-0313-7.pdf\r\n",
      "sensors-19-00210-v2.pdf\r\n",
      "\u001b[34mslides\u001b[m\u001b[m\r\n",
      "slides.zip\r\n",
      "\u001b[34msousaw-thirdorder-b6962b2088ec\u001b[m\u001b[m\r\n",
      "sousaw-thirdorder-b6962b2088ec.zip\r\n",
      "tdep-devel-master (1).zip\r\n",
      "template (1).zip\r\n",
      "template.zip\r\n",
      "user_guide.tex\r\n",
      "\u001b[34musr\u001b[m\u001b[m\r\n",
      "\u001b[34musr 2\u001b[m\u001b[m\r\n",
      "word2vec.ipynb\r\n",
      "word2vec.model\r\n",
      "\u001b[34mxkcd_rgb_v1.5\u001b[m\u001b[m\r\n",
      "\u001b[34mxkcd_rgb_v1.5 (1)\u001b[m\u001b[m\r\n",
      "xkcd_rgb_v1.5 (1).zip\r\n",
      "\u001b[34mxkcd_rgb_v1.5 2\u001b[m\u001b[m\r\n",
      "xkcd_rgb_v1.5.zip\r\n",
      "yfinance-0.1.54.tar.gz\r\n",
      "yo.pdf\r\n",
      "~$E5330 term paper guidlines and format 2020.docx\r\n"
     ]
    }
   ],
   "source": [
    "!ls"
   ]
  },
  {
   "cell_type": "code",
   "execution_count": null,
   "metadata": {
    "colab": {
     "background_save": true
    },
    "id": "hnsjYt5UgWzg"
   },
   "outputs": [],
   "source": []
  },
  {
   "cell_type": "code",
   "execution_count": 777,
   "metadata": {
    "colab": {
     "background_save": true
    },
    "id": "HFkh_ysHEqn3"
   },
   "outputs": [
    {
     "name": "stdout",
     "output_type": "stream",
     "text": [
      "Indexing word vectors.\n",
      "Found 1193514 word vectors.\n"
     ]
    }
   ],
   "source": [
    "print('Indexing word vectors.')\n",
    "\n",
    "embeddings_index = {}\n",
    "f = open('glove.twitter.27B.200d.txt', encoding='utf-8')\n",
    "for line in f:\n",
    "    values = line.split()\n",
    "    word = values[0]\n",
    "    coefs = np.asarray(values[1:], dtype='float32')\n",
    "    embeddings_index[word] = coefs\n",
    "f.close()\n",
    "\n",
    "print('Found %s word vectors.' % len(embeddings_index))"
   ]
  },
  {
   "cell_type": "markdown",
   "metadata": {},
   "source": [
    "# We then write functions to find and sum the word embeddings of artist names and song names. To include song names, uncomment the commented lines below."
   ]
  },
  {
   "cell_type": "code",
   "execution_count": 798,
   "metadata": {
    "colab": {
     "background_save": true
    },
    "id": "4Q3cQj9gUbY7"
   },
   "outputs": [],
   "source": [
    "def convertToEm(artists):\n",
    "  arr = ast.literal_eval(artists)\n",
    "  embeds = np.zeros(200)\n",
    "  for i in arr:\n",
    "    strs = i.split()\n",
    "    for w in strs:\n",
    "      check = w.lower()\n",
    "      if check in embeddings_index:\n",
    "        embeds = np.add(embeds, embeddings_index[check])\n",
    "  return embeds\n"
   ]
  },
  {
   "cell_type": "code",
   "execution_count": null,
   "metadata": {
    "colab": {
     "background_save": true
    },
    "id": "UJqG9J3-oS-L"
   },
   "outputs": [],
   "source": [
    "\n"
   ]
  },
  {
   "cell_type": "code",
   "execution_count": null,
   "metadata": {
    "colab": {
     "background_save": true
    },
    "id": "eTDEGPEybcE3"
   },
   "outputs": [],
   "source": [
    "words = set()\n",
    "hasEmbeds = set()\n",
    "for index, r in data.iterrows():\n",
    "  arr = ast.literal_eval(r.artists)\n",
    "  for i in arr:\n",
    "    strs = i.split()\n",
    "    for w in strs:\n",
    "      check = w.lower()\n",
    "      if check in embeddings_index:\n",
    "        hasEmbeds.add(check)\n",
    "  "
   ]
  },
  {
   "cell_type": "code",
   "execution_count": null,
   "metadata": {
    "colab": {
     "background_save": true
    },
    "id": "xPBmxZ5Vpalh"
   },
   "outputs": [],
   "source": [
    "df_names = []\n",
    "for i in data['name']:\n",
    "  df_names.append(i.replace(\"'\",\"\").replace('(','').replace(')','').replace(\" -\",'').replace(',','').replace(\"[\",'').replace(\"]\",'').lower().split())"
   ]
  },
  {
   "cell_type": "code",
   "execution_count": null,
   "metadata": {
    "colab": {
     "background_save": true
    },
    "id": "lxvN1qBYwmYo"
   },
   "outputs": [],
   "source": [
    "words = set()\n",
    "hasEmbeds2 = set()\n",
    "for r in df_names:\n",
    "  for k in r:\n",
    "    check = k.lower()\n",
    "    if check in embeddings_index:\n",
    "      hasEmbeds2.add(check)"
   ]
  },
  {
   "cell_type": "code",
   "execution_count": null,
   "metadata": {
    "colab": {
     "background_save": true
    },
    "id": "8n6MDQAWC-Zz"
   },
   "outputs": [],
   "source": [
    "def convertToEm2(names):\n",
    "  embeds = np.zeros(25)\n",
    "  arr = names\n",
    "  for i in arr:\n",
    "    strs = i.split()\n",
    "    for w in strs:\n",
    "      check = w.lower()\n",
    "      if check in embeddings_index:\n",
    "        embeds = np.add(embeds, embeddings_index[check])\n",
    "  return embeds\n"
   ]
  },
  {
   "cell_type": "code",
   "execution_count": null,
   "metadata": {},
   "outputs": [],
   "source": [
    "data['vector'] = data['artists'].apply(convertToEm)\n",
    "data['vector']"
   ]
  },
  {
   "cell_type": "code",
   "execution_count": 853,
   "metadata": {
    "colab": {
     "background_save": true
    },
    "id": "LfeBG5NNeSkS"
   },
   "outputs": [],
   "source": [
    "#data['vector2'] = df_names\n",
    "#data['vector2'] = data['vector2'].apply(convertToEm2)"
   ]
  },
  {
   "cell_type": "code",
   "execution_count": null,
   "metadata": {
    "colab": {
     "background_save": true
    },
    "id": "zbtDRjDLeUiX"
   },
   "outputs": [],
   "source": [
    "data = data.drop(columns = ['Unnamed: 0', 'artists', 'id', 'name', 'release_date','popularity'])"
   ]
  },
  {
   "cell_type": "code",
   "execution_count": null,
   "metadata": {
    "colab": {
     "background_save": true
    },
    "id": "cWIpgXOp4B-L"
   },
   "outputs": [],
   "source": [
    "df = pd.DataFrame(data['vector'].values.tolist())\n",
    "#df2 = pd.DataFrame(data['vector2'].values.tolist())"
   ]
  },
  {
   "cell_type": "code",
   "execution_count": 855,
   "metadata": {
    "colab": {
     "background_save": true
    },
    "id": "1iYP8-ETor_J"
   },
   "outputs": [],
   "source": [
    "#df2.rename(columns=dict(zip(df2.columns, df2.columns+200)), inplace=True)"
   ]
  },
  {
   "cell_type": "code",
   "execution_count": 856,
   "metadata": {
    "colab": {
     "background_save": true
    },
    "id": "Vk3qE87IiCkC"
   },
   "outputs": [],
   "source": [
    "data = pd.concat([data, df], axis=1)\n",
    "#data = pd.concat([data, df2], axis=1)\n",
    "data"
   ]
  },
  {
   "cell_type": "code",
   "execution_count": null,
   "metadata": {
    "colab": {
     "background_save": true
    },
    "id": "f5WitWLsQLok"
   },
   "outputs": [],
   "source": [
    "data = data.drop('vector', axis=1)\n",
    "#data = data.drop('vector2', axis=1)"
   ]
  },
  {
   "cell_type": "code",
   "execution_count": null,
   "metadata": {
    "colab": {
     "background_save": true
    },
    "id": "zP48t_opj5K1"
   },
   "outputs": [],
   "source": [
    "X = data.drop('is_success',axis = 1)\n",
    "y = data['is_success']"
   ]
  },
  {
   "cell_type": "markdown",
   "metadata": {},
   "source": [
    "# Next we split the data into train and test sets."
   ]
  },
  {
   "cell_type": "code",
   "execution_count": null,
   "metadata": {
    "colab": {
     "background_save": true
    },
    "id": "WP8zHooylj9p"
   },
   "outputs": [],
   "source": [
    "from sklearn.model_selection import train_test_split\n",
    "\n",
    "X_train, X_test, y_train, y_test = train_test_split(X, y, test_size=0.30, random_state=90"
   ]
  },
  {
   "cell_type": "markdown",
   "metadata": {
    "colab": {
     "background_save": true
    },
    "id": "c4sjWjp-22qK"
   },
   "source": [
    "# Next we upsample our training set. To downsample, replace df_min with df_maj and vice versa in all the lines below the commented line."
   ]
  },
  {
   "cell_type": "code",
   "execution_count": 861,
   "metadata": {
    "colab": {
     "background_save": true
    },
    "id": "EawLq3WDQh75"
   },
   "outputs": [
    {
     "name": "stderr",
     "output_type": "stream",
     "text": [
      "<ipython-input-861-1068ffabfdff>:3: SettingWithCopyWarning: \n",
      "A value is trying to be set on a copy of a slice from a DataFrame.\n",
      "Try using .loc[row_indexer,col_indexer] = value instead\n",
      "\n",
      "See the caveats in the documentation: https://pandas.pydata.org/pandas-docs/stable/user_guide/indexing.html#returning-a-view-versus-a-copy\n",
      "  X_train['is_success'] = y_train\n"
     ]
    }
   ],
   "source": [
    "from sklearn.utils import resample\n",
    "import random\n",
    "X_train['is_success'] = y_train\n",
    "df_train = X_train\n",
    "df_maj = df_train[df_train['is_success']==0]\n",
    "df_min = df_train[df_train['is_success']==1]\n",
    "#############################################################################################\n",
    "n = len(df_maj)\n",
    "df_sampled = resample(df_min,replace=True, n_samples=n,random_state=123)\n",
    "df_comb = df_maj.append(df_sampled).sample(frac=1)\n",
    "X_train = df_comb.drop('is_success',axis = 1)\n",
    "y_train = df_comb['is_success']"
   ]
  },
  {
   "cell_type": "code",
   "execution_count": 870,
   "metadata": {
    "colab": {
     "background_save": true
    },
    "id": "bI7w4Jua22qK"
   },
   "outputs": [
    {
     "data": {
      "text/html": [
       "<div>\n",
       "<style scoped>\n",
       "    .dataframe tbody tr th:only-of-type {\n",
       "        vertical-align: middle;\n",
       "    }\n",
       "\n",
       "    .dataframe tbody tr th {\n",
       "        vertical-align: top;\n",
       "    }\n",
       "\n",
       "    .dataframe thead th {\n",
       "        text-align: right;\n",
       "    }\n",
       "</style>\n",
       "<table border=\"1\" class=\"dataframe\">\n",
       "  <thead>\n",
       "    <tr style=\"text-align: right;\">\n",
       "      <th></th>\n",
       "      <th>acousticness</th>\n",
       "      <th>danceability</th>\n",
       "      <th>duration_ms</th>\n",
       "      <th>energy</th>\n",
       "      <th>explicit</th>\n",
       "      <th>instrumentalness</th>\n",
       "      <th>key</th>\n",
       "      <th>liveness</th>\n",
       "      <th>loudness</th>\n",
       "      <th>mode</th>\n",
       "      <th>...</th>\n",
       "      <th>190</th>\n",
       "      <th>191</th>\n",
       "      <th>192</th>\n",
       "      <th>193</th>\n",
       "      <th>194</th>\n",
       "      <th>195</th>\n",
       "      <th>196</th>\n",
       "      <th>197</th>\n",
       "      <th>198</th>\n",
       "      <th>199</th>\n",
       "    </tr>\n",
       "  </thead>\n",
       "  <tbody>\n",
       "    <tr>\n",
       "      <th>21682</th>\n",
       "      <td>0.1690</td>\n",
       "      <td>0.480</td>\n",
       "      <td>206587</td>\n",
       "      <td>0.928</td>\n",
       "      <td>0</td>\n",
       "      <td>0.000000</td>\n",
       "      <td>4</td>\n",
       "      <td>0.0479</td>\n",
       "      <td>-5.501</td>\n",
       "      <td>1</td>\n",
       "      <td>...</td>\n",
       "      <td>0.951237</td>\n",
       "      <td>0.682730</td>\n",
       "      <td>0.877220</td>\n",
       "      <td>-0.927200</td>\n",
       "      <td>0.676982</td>\n",
       "      <td>-0.539576</td>\n",
       "      <td>0.564151</td>\n",
       "      <td>0.80333</td>\n",
       "      <td>-0.601177</td>\n",
       "      <td>-1.071780</td>\n",
       "    </tr>\n",
       "    <tr>\n",
       "      <th>29867</th>\n",
       "      <td>0.6980</td>\n",
       "      <td>0.548</td>\n",
       "      <td>237333</td>\n",
       "      <td>0.402</td>\n",
       "      <td>0</td>\n",
       "      <td>0.000114</td>\n",
       "      <td>2</td>\n",
       "      <td>0.1350</td>\n",
       "      <td>-8.727</td>\n",
       "      <td>1</td>\n",
       "      <td>...</td>\n",
       "      <td>-0.082449</td>\n",
       "      <td>0.267909</td>\n",
       "      <td>0.798040</td>\n",
       "      <td>-0.148500</td>\n",
       "      <td>-0.171560</td>\n",
       "      <td>-0.242690</td>\n",
       "      <td>1.766840</td>\n",
       "      <td>0.99689</td>\n",
       "      <td>-0.871880</td>\n",
       "      <td>-0.766085</td>\n",
       "    </tr>\n",
       "    <tr>\n",
       "      <th>10320</th>\n",
       "      <td>0.0270</td>\n",
       "      <td>0.879</td>\n",
       "      <td>156284</td>\n",
       "      <td>0.732</td>\n",
       "      <td>0</td>\n",
       "      <td>0.000000</td>\n",
       "      <td>11</td>\n",
       "      <td>0.0656</td>\n",
       "      <td>-5.016</td>\n",
       "      <td>0</td>\n",
       "      <td>...</td>\n",
       "      <td>0.000000</td>\n",
       "      <td>0.000000</td>\n",
       "      <td>0.000000</td>\n",
       "      <td>0.000000</td>\n",
       "      <td>0.000000</td>\n",
       "      <td>0.000000</td>\n",
       "      <td>0.000000</td>\n",
       "      <td>0.00000</td>\n",
       "      <td>0.000000</td>\n",
       "      <td>0.000000</td>\n",
       "    </tr>\n",
       "    <tr>\n",
       "      <th>21725</th>\n",
       "      <td>0.2440</td>\n",
       "      <td>0.798</td>\n",
       "      <td>293053</td>\n",
       "      <td>0.443</td>\n",
       "      <td>1</td>\n",
       "      <td>0.000000</td>\n",
       "      <td>2</td>\n",
       "      <td>0.3260</td>\n",
       "      <td>-6.062</td>\n",
       "      <td>1</td>\n",
       "      <td>...</td>\n",
       "      <td>0.715740</td>\n",
       "      <td>0.407140</td>\n",
       "      <td>-0.808940</td>\n",
       "      <td>0.295330</td>\n",
       "      <td>0.261620</td>\n",
       "      <td>-0.567750</td>\n",
       "      <td>0.063045</td>\n",
       "      <td>-0.42014</td>\n",
       "      <td>0.082703</td>\n",
       "      <td>-0.607620</td>\n",
       "    </tr>\n",
       "    <tr>\n",
       "      <th>5683</th>\n",
       "      <td>0.6650</td>\n",
       "      <td>0.357</td>\n",
       "      <td>188133</td>\n",
       "      <td>0.361</td>\n",
       "      <td>0</td>\n",
       "      <td>0.005920</td>\n",
       "      <td>0</td>\n",
       "      <td>0.0682</td>\n",
       "      <td>-12.140</td>\n",
       "      <td>1</td>\n",
       "      <td>...</td>\n",
       "      <td>-0.780900</td>\n",
       "      <td>0.562960</td>\n",
       "      <td>0.706170</td>\n",
       "      <td>-0.405420</td>\n",
       "      <td>-0.151110</td>\n",
       "      <td>0.038366</td>\n",
       "      <td>0.193380</td>\n",
       "      <td>-0.14097</td>\n",
       "      <td>-0.636540</td>\n",
       "      <td>-0.405560</td>\n",
       "    </tr>\n",
       "    <tr>\n",
       "      <th>...</th>\n",
       "      <td>...</td>\n",
       "      <td>...</td>\n",
       "      <td>...</td>\n",
       "      <td>...</td>\n",
       "      <td>...</td>\n",
       "      <td>...</td>\n",
       "      <td>...</td>\n",
       "      <td>...</td>\n",
       "      <td>...</td>\n",
       "      <td>...</td>\n",
       "      <td>...</td>\n",
       "      <td>...</td>\n",
       "      <td>...</td>\n",
       "      <td>...</td>\n",
       "      <td>...</td>\n",
       "      <td>...</td>\n",
       "      <td>...</td>\n",
       "      <td>...</td>\n",
       "      <td>...</td>\n",
       "      <td>...</td>\n",
       "      <td>...</td>\n",
       "    </tr>\n",
       "    <tr>\n",
       "      <th>12984</th>\n",
       "      <td>0.0966</td>\n",
       "      <td>0.730</td>\n",
       "      <td>239627</td>\n",
       "      <td>0.700</td>\n",
       "      <td>0</td>\n",
       "      <td>0.000144</td>\n",
       "      <td>9</td>\n",
       "      <td>0.1140</td>\n",
       "      <td>-8.648</td>\n",
       "      <td>1</td>\n",
       "      <td>...</td>\n",
       "      <td>-0.219859</td>\n",
       "      <td>-0.581400</td>\n",
       "      <td>-0.131920</td>\n",
       "      <td>-0.160220</td>\n",
       "      <td>-0.460840</td>\n",
       "      <td>-0.289830</td>\n",
       "      <td>-0.089420</td>\n",
       "      <td>-0.12725</td>\n",
       "      <td>-0.509018</td>\n",
       "      <td>-0.031100</td>\n",
       "    </tr>\n",
       "    <tr>\n",
       "      <th>15153</th>\n",
       "      <td>0.1900</td>\n",
       "      <td>0.407</td>\n",
       "      <td>295320</td>\n",
       "      <td>0.678</td>\n",
       "      <td>0</td>\n",
       "      <td>0.000000</td>\n",
       "      <td>2</td>\n",
       "      <td>0.3420</td>\n",
       "      <td>-6.135</td>\n",
       "      <td>1</td>\n",
       "      <td>...</td>\n",
       "      <td>0.049430</td>\n",
       "      <td>-0.647250</td>\n",
       "      <td>0.291100</td>\n",
       "      <td>0.251444</td>\n",
       "      <td>1.770500</td>\n",
       "      <td>0.037858</td>\n",
       "      <td>2.132870</td>\n",
       "      <td>0.30359</td>\n",
       "      <td>-0.641000</td>\n",
       "      <td>-1.240430</td>\n",
       "    </tr>\n",
       "    <tr>\n",
       "      <th>243</th>\n",
       "      <td>0.3720</td>\n",
       "      <td>0.680</td>\n",
       "      <td>244507</td>\n",
       "      <td>0.590</td>\n",
       "      <td>0</td>\n",
       "      <td>0.000027</td>\n",
       "      <td>9</td>\n",
       "      <td>0.1250</td>\n",
       "      <td>-7.601</td>\n",
       "      <td>0</td>\n",
       "      <td>...</td>\n",
       "      <td>-0.197020</td>\n",
       "      <td>0.438283</td>\n",
       "      <td>0.580803</td>\n",
       "      <td>1.329000</td>\n",
       "      <td>0.002350</td>\n",
       "      <td>-1.195640</td>\n",
       "      <td>0.762230</td>\n",
       "      <td>0.17651</td>\n",
       "      <td>-0.752000</td>\n",
       "      <td>-1.202950</td>\n",
       "    </tr>\n",
       "    <tr>\n",
       "      <th>22594</th>\n",
       "      <td>0.2050</td>\n",
       "      <td>0.870</td>\n",
       "      <td>251989</td>\n",
       "      <td>0.464</td>\n",
       "      <td>1</td>\n",
       "      <td>0.000000</td>\n",
       "      <td>4</td>\n",
       "      <td>0.0902</td>\n",
       "      <td>-8.337</td>\n",
       "      <td>1</td>\n",
       "      <td>...</td>\n",
       "      <td>-0.649394</td>\n",
       "      <td>1.501188</td>\n",
       "      <td>-1.390750</td>\n",
       "      <td>0.919300</td>\n",
       "      <td>-0.125014</td>\n",
       "      <td>-1.233690</td>\n",
       "      <td>0.874770</td>\n",
       "      <td>0.64978</td>\n",
       "      <td>-0.546810</td>\n",
       "      <td>-2.426220</td>\n",
       "    </tr>\n",
       "    <tr>\n",
       "      <th>31083</th>\n",
       "      <td>0.2680</td>\n",
       "      <td>0.783</td>\n",
       "      <td>264000</td>\n",
       "      <td>0.764</td>\n",
       "      <td>1</td>\n",
       "      <td>0.000001</td>\n",
       "      <td>8</td>\n",
       "      <td>0.1140</td>\n",
       "      <td>-5.146</td>\n",
       "      <td>1</td>\n",
       "      <td>...</td>\n",
       "      <td>0.330606</td>\n",
       "      <td>0.989630</td>\n",
       "      <td>-0.517920</td>\n",
       "      <td>-0.856750</td>\n",
       "      <td>0.708380</td>\n",
       "      <td>0.125819</td>\n",
       "      <td>-0.257730</td>\n",
       "      <td>0.70501</td>\n",
       "      <td>0.323390</td>\n",
       "      <td>-0.080336</td>\n",
       "    </tr>\n",
       "  </tbody>\n",
       "</table>\n",
       "<p>56872 rows × 214 columns</p>\n",
       "</div>"
      ],
      "text/plain": [
       "       acousticness  danceability  duration_ms  energy  explicit  \\\n",
       "21682        0.1690         0.480       206587   0.928         0   \n",
       "29867        0.6980         0.548       237333   0.402         0   \n",
       "10320        0.0270         0.879       156284   0.732         0   \n",
       "21725        0.2440         0.798       293053   0.443         1   \n",
       "5683         0.6650         0.357       188133   0.361         0   \n",
       "...             ...           ...          ...     ...       ...   \n",
       "12984        0.0966         0.730       239627   0.700         0   \n",
       "15153        0.1900         0.407       295320   0.678         0   \n",
       "243          0.3720         0.680       244507   0.590         0   \n",
       "22594        0.2050         0.870       251989   0.464         1   \n",
       "31083        0.2680         0.783       264000   0.764         1   \n",
       "\n",
       "       instrumentalness  key  liveness  loudness  mode  ...       190  \\\n",
       "21682          0.000000    4    0.0479    -5.501     1  ...  0.951237   \n",
       "29867          0.000114    2    0.1350    -8.727     1  ... -0.082449   \n",
       "10320          0.000000   11    0.0656    -5.016     0  ...  0.000000   \n",
       "21725          0.000000    2    0.3260    -6.062     1  ...  0.715740   \n",
       "5683           0.005920    0    0.0682   -12.140     1  ... -0.780900   \n",
       "...                 ...  ...       ...       ...   ...  ...       ...   \n",
       "12984          0.000144    9    0.1140    -8.648     1  ... -0.219859   \n",
       "15153          0.000000    2    0.3420    -6.135     1  ...  0.049430   \n",
       "243            0.000027    9    0.1250    -7.601     0  ... -0.197020   \n",
       "22594          0.000000    4    0.0902    -8.337     1  ... -0.649394   \n",
       "31083          0.000001    8    0.1140    -5.146     1  ...  0.330606   \n",
       "\n",
       "            191       192       193       194       195       196      197  \\\n",
       "21682  0.682730  0.877220 -0.927200  0.676982 -0.539576  0.564151  0.80333   \n",
       "29867  0.267909  0.798040 -0.148500 -0.171560 -0.242690  1.766840  0.99689   \n",
       "10320  0.000000  0.000000  0.000000  0.000000  0.000000  0.000000  0.00000   \n",
       "21725  0.407140 -0.808940  0.295330  0.261620 -0.567750  0.063045 -0.42014   \n",
       "5683   0.562960  0.706170 -0.405420 -0.151110  0.038366  0.193380 -0.14097   \n",
       "...         ...       ...       ...       ...       ...       ...      ...   \n",
       "12984 -0.581400 -0.131920 -0.160220 -0.460840 -0.289830 -0.089420 -0.12725   \n",
       "15153 -0.647250  0.291100  0.251444  1.770500  0.037858  2.132870  0.30359   \n",
       "243    0.438283  0.580803  1.329000  0.002350 -1.195640  0.762230  0.17651   \n",
       "22594  1.501188 -1.390750  0.919300 -0.125014 -1.233690  0.874770  0.64978   \n",
       "31083  0.989630 -0.517920 -0.856750  0.708380  0.125819 -0.257730  0.70501   \n",
       "\n",
       "            198       199  \n",
       "21682 -0.601177 -1.071780  \n",
       "29867 -0.871880 -0.766085  \n",
       "10320  0.000000  0.000000  \n",
       "21725  0.082703 -0.607620  \n",
       "5683  -0.636540 -0.405560  \n",
       "...         ...       ...  \n",
       "12984 -0.509018 -0.031100  \n",
       "15153 -0.641000 -1.240430  \n",
       "243   -0.752000 -1.202950  \n",
       "22594 -0.546810 -2.426220  \n",
       "31083  0.323390 -0.080336  \n",
       "\n",
       "[56872 rows x 214 columns]"
      ]
     },
     "execution_count": 870,
     "metadata": {},
     "output_type": "execute_result"
    }
   ],
   "source": [
    "X_train"
   ]
  },
  {
   "cell_type": "markdown",
   "metadata": {
    "colab": {
     "background_save": true
    },
    "id": "bL6dIaNWRMek"
   },
   "source": [
    "# Models"
   ]
  },
  {
   "cell_type": "code",
   "execution_count": 871,
   "metadata": {
    "colab": {
     "background_save": true
    },
    "id": "R9K-_Z2p-TEr"
   },
   "outputs": [],
   "source": [
    "from sklearn.svm import SVC\n",
    "from sklearn.neural_network import MLPClassifier\n",
    "import xgboost as xgb\n",
    "from xgboost import plot_importance"
   ]
  },
  {
   "cell_type": "markdown",
   "metadata": {},
   "source": [
    "# XGBoost"
   ]
  },
  {
   "cell_type": "code",
   "execution_count": 865,
   "metadata": {
    "colab": {
     "background_save": true
    },
    "id": "Aeo6EtJA0aJO"
   },
   "outputs": [],
   "source": [
    "train_xgb = xgb.DMatrix(X_train, label = y_train)\n",
    "test_xgb = xgb.DMatrix(X_test, label = y_test)"
   ]
  },
  {
   "cell_type": "code",
   "execution_count": 866,
   "metadata": {
    "id": "eSxNeZhc0dKn"
   },
   "outputs": [],
   "source": [
    "param = {\n",
    "    'max_depth': 100,\n",
    "    'eta': 0.3,\n",
    "    'objective': 'binary:logistic',\n",
    "    'alpha':0.0001,\n",
    "    'lambda': 0.01\n",
    "}\n",
    "epochs = 100\n",
    "model_xgb = xgb.train(param, train_xgb, epochs)"
   ]
  },
  {
   "cell_type": "code",
   "execution_count": null,
   "metadata": {},
   "outputs": [],
   "source": [
    "pred1 = model_xgb.predict(test_xgb)\n",
    "pred_xgb = (pred > 0.50)"
   ]
  },
  {
   "cell_type": "code",
   "execution_count": null,
   "metadata": {},
   "outputs": [],
   "source": [
    "from sklearn.metrics import accuracy_score, recall_score, confusion_matrix\n",
    "print('Accuracy:')\n",
    "print(accuracy_score(y_test,pred_xgb))\n",
    "print()\n",
    "print('Recall:')\n",
    "print(recall_score(y_test,pred_xgb))\n",
    "print()\n",
    "print('Confusion:')\n",
    "confusion_matrix(y_test,pred_xgb)"
   ]
  },
  {
   "cell_type": "code",
   "execution_count": null,
   "metadata": {},
   "outputs": [],
   "source": [
    "from matplotlib import pyplot as plt\n",
    "plt.rcParams['axes.labelsize'] = 18\n",
    "plt.rcParams['axes.titlesize'] = 22\n",
    "fig, ax = plt.subplots(figsize=(6,6))\n",
    "xgb.plot_importance(model_xgb, max_num_features=5, height=0.5, ax=ax, color = 'orange')\n",
    "plt.grid(b=None)\n",
    "plt.title('Feature Importance')\n",
    "plt.xlabel('F-Score')\n",
    "plt.ylabel('Song Trait')\n",
    "plt.xticks(fontsize = 14)\n",
    "plt.yticks(fontsize = 14)\n",
    "plt.show()"
   ]
  },
  {
   "cell_type": "markdown",
   "metadata": {},
   "source": [
    "# SVM"
   ]
  },
  {
   "cell_type": "code",
   "execution_count": 491,
   "metadata": {
    "id": "F4VB3eValCo8"
   },
   "outputs": [],
   "source": [
    "model_svm = SVC(C=100000, gamma='auto')"
   ]
  },
  {
   "cell_type": "code",
   "execution_count": 771,
   "metadata": {
    "colab": {
     "base_uri": "https://localhost:8080/",
     "height": 439
    },
    "executionInfo": {
     "elapsed": 117008,
     "status": "ok",
     "timestamp": 1607417072834,
     "user": {
      "displayName": "Mario Medina",
      "photoUrl": "",
      "userId": "06267997109573635573"
     },
     "user_tz": 480
    },
    "id": "UqvbE2_z5amc",
    "outputId": "5baa4e19-14aa-4c0f-b568-301af15b1dfe"
   },
   "outputs": [],
   "source": [
    "model.fit(X_train, y_train)"
   ]
  },
  {
   "cell_type": "code",
   "execution_count": null,
   "metadata": {
    "id": "Xhm3NBfSU0BW"
   },
   "outputs": [],
   "source": [
    "pred_svm = model_svm.predict(X_test)"
   ]
  },
  {
   "cell_type": "code",
   "execution_count": 492,
   "metadata": {
    "colab": {
     "base_uri": "https://localhost:8080/"
    },
    "executionInfo": {
     "elapsed": 50818,
     "status": "ok",
     "timestamp": 1607415613840,
     "user": {
      "displayName": "Mario Medina",
      "photoUrl": "",
      "userId": "06267997109573635573"
     },
     "user_tz": 480
    },
    "id": "dWH5dxpm4UjQ",
    "outputId": "76a706ed-4493-44bb-c299-5d4b54fa7ad6"
   },
   "outputs": [
    {
     "data": {
      "text/plain": [
       "SVC(C=100000, gamma='auto')"
      ]
     },
     "execution_count": 492,
     "metadata": {},
     "output_type": "execute_result"
    }
   ],
   "source": [
    "print('Accuracy:')\n",
    "print(accuracy_score(y_test,pred_svm))\n",
    "print()\n",
    "print('Recall:')\n",
    "print(recall_score(y_test,pred_svm))\n",
    "print()\n",
    "print('Confusion:')\n",
    "confusion_matrix(y_test,pred_svm)"
   ]
  },
  {
   "cell_type": "code",
   "execution_count": null,
   "metadata": {
    "colab": {
     "base_uri": "https://localhost:8080/",
     "height": 142
    },
    "executionInfo": {
     "elapsed": 875,
     "status": "ok",
     "timestamp": 1607417533767,
     "user": {
      "displayName": "Mario Medina",
      "photoUrl": "",
      "userId": "06267997109573635573"
     },
     "user_tz": 480
    },
    "id": "rwRSJjqm-XV3",
    "outputId": "1c27d103-c327-4d2d-ef2e-410067a509ee"
   },
   "outputs": [],
   "source": []
  },
  {
   "cell_type": "code",
   "execution_count": null,
   "metadata": {
    "colab": {
     "base_uri": "https://localhost:8080/"
    },
    "executionInfo": {
     "elapsed": 882,
     "status": "ok",
     "timestamp": 1607331937365,
     "user": {
      "displayName": "Mario Medina",
      "photoUrl": "",
      "userId": "06267997109573635573"
     },
     "user_tz": 480
    },
    "id": "BDGH1R1Icody",
    "outputId": "59ebd2c4-886b-4225-94c2-fecb0178a370"
   },
   "outputs": [],
   "source": []
  },
  {
   "cell_type": "code",
   "execution_count": null,
   "metadata": {
    "colab": {
     "base_uri": "https://localhost:8080/"
    },
    "executionInfo": {
     "elapsed": 865,
     "status": "ok",
     "timestamp": 1607417533769,
     "user": {
      "displayName": "Mario Medina",
      "photoUrl": "",
      "userId": "06267997109573635573"
     },
     "user_tz": 480
    },
    "id": "X4au67JbR-Qj",
    "outputId": "a28c428d-ffae-4f10-a189-367c23a9f3bc"
   },
   "outputs": [],
   "source": []
  },
  {
   "cell_type": "code",
   "execution_count": null,
   "metadata": {
    "colab": {
     "base_uri": "https://localhost:8080/"
    },
    "executionInfo": {
     "elapsed": 422,
     "status": "ok",
     "timestamp": 1607417229953,
     "user": {
      "displayName": "Mario Medina",
      "photoUrl": "",
      "userId": "06267997109573635573"
     },
     "user_tz": 480
    },
    "id": "-JpYa5azSIx9",
    "outputId": "dabcae30-aa72-44dd-8df4-92043a456512",
    "scrolled": true
   },
   "outputs": [],
   "source": []
  },
  {
   "cell_type": "code",
   "execution_count": null,
   "metadata": {
    "colab": {
     "base_uri": "https://localhost:8080/"
    },
    "executionInfo": {
     "elapsed": 924679,
     "status": "ok",
     "timestamp": 1607219692288,
     "user": {
      "displayName": "Darren Ting",
      "photoUrl": "",
      "userId": "02818186018180765997"
     },
     "user_tz": 300
    },
    "id": "J3eDJY_H74IZ",
    "outputId": "36912943-f43e-4342-c835-c538e1ad6d85"
   },
   "outputs": [],
   "source": []
  },
  {
   "cell_type": "code",
   "execution_count": null,
   "metadata": {
    "id": "qqFfRaBUSgtF",
    "outputId": "03d0ca70-a535-4251-a3d1-48b17c8a887a"
   },
   "outputs": [],
   "source": []
  },
  {
   "cell_type": "code",
   "execution_count": null,
   "metadata": {
    "colab": {
     "base_uri": "https://localhost:8080/",
     "height": 439
    },
    "executionInfo": {
     "elapsed": 424,
     "status": "ok",
     "timestamp": 1607414517360,
     "user": {
      "displayName": "Mario Medina",
      "photoUrl": "",
      "userId": "06267997109573635573"
     },
     "user_tz": 480
    },
    "id": "9OHnKllO22qL",
    "outputId": "bc4a8a7a-dcf1-498c-ec6c-8515456c9341"
   },
   "outputs": [],
   "source": []
  },
  {
   "cell_type": "code",
   "execution_count": null,
   "metadata": {
    "id": "MbpiF7DtXrHd"
   },
   "outputs": [],
   "source": []
  },
  {
   "cell_type": "code",
   "execution_count": null,
   "metadata": {},
   "outputs": [],
   "source": []
  }
 ],
 "metadata": {
  "colab": {
   "collapsed_sections": [],
   "name": "models.ipynb",
   "version": ""
  },
  "kernelspec": {
   "display_name": "Python 3",
   "language": "python",
   "name": "python3"
  },
  "language_info": {
   "codemirror_mode": {
    "name": "ipython",
    "version": 3
   },
   "file_extension": ".py",
   "mimetype": "text/x-python",
   "name": "python",
   "nbconvert_exporter": "python",
   "pygments_lexer": "ipython3",
   "version": "3.8.3"
  }
 },
 "nbformat": 4,
 "nbformat_minor": 1
}
