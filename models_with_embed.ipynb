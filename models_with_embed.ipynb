{
 "cells": [
  {
   "cell_type": "code",
   "execution_count": 1,
   "metadata": {
    "colab": {
     "base_uri": "https://localhost:8080/"
    },
    "executionInfo": {
     "elapsed": 18607,
     "status": "ok",
     "timestamp": 1607664488989,
     "user": {
      "displayName": "Mario Medina",
      "photoUrl": "",
      "userId": "06267997109573635573"
     },
     "user_tz": 480
    },
    "id": "DjJIg_sEhO_F",
    "outputId": "20fa5f7b-3440-4d0e-b898-5f88d41b6e27"
   },
   "outputs": [
    {
     "name": "stdout",
     "output_type": "stream",
     "text": [
      "Mounted at /content/drive/\n"
     ]
    }
   ],
   "source": [
    "from google.colab import drive, files\n",
    "drive.mount('/content/drive/', force_remount=True)"
   ]
  },
  {
   "cell_type": "code",
   "execution_count": 1,
   "metadata": {
    "executionInfo": {
     "elapsed": 3818,
     "status": "ok",
     "timestamp": 1607664490244,
     "user": {
      "displayName": "Mario Medina",
      "photoUrl": "",
      "userId": "06267997109573635573"
     },
     "user_tz": 480
    },
    "id": "KG6oQq0QhY-A"
   },
   "outputs": [],
   "source": [
    "import os\n",
    "import unicodedata\n",
    "import seaborn as sns\n",
    "import matplotlib.pyplot as plt\n",
    "import pandas as pd\n",
    "import numpy as np\n",
    "import xgboost as xgb\n",
    "import ast \n",
    "import sklearn.metrics\n",
    "from sklearn.model_selection import RandomizedSearchCV\n",
    "from sklearn.model_selection import StratifiedKFold"
   ]
  },
  {
   "cell_type": "code",
   "execution_count": 2,
   "metadata": {
    "executionInfo": {
     "elapsed": 1182,
     "status": "ok",
     "timestamp": 1607664490247,
     "user": {
      "displayName": "Mario Medina",
      "photoUrl": "",
      "userId": "06267997109573635573"
     },
     "user_tz": 480
    },
    "id": "w53YIwlzhjtz"
   },
   "outputs": [],
   "source": [
    "root_path = os.path.join(os.getcwd(), \"drive\", \"My Drive/orie4741 final\") # replace based on your Google drive organization\n",
    "dataset_path = os.path.join(root_path, \"data/\") # same here"
   ]
  },
  {
   "cell_type": "markdown",
   "metadata": {},
   "source": [
    "# We create a dataframe of our cleaned data"
   ]
  },
  {
   "cell_type": "code",
   "execution_count": 690,
   "metadata": {
    "colab": {
     "base_uri": "https://localhost:8080/",
     "height": 779
    },
    "executionInfo": {
     "elapsed": 1981,
     "status": "ok",
     "timestamp": 1607664491965,
     "user": {
      "displayName": "Mario Medina",
      "photoUrl": "",
      "userId": "06267997109573635573"
     },
     "user_tz": 480
    },
    "id": "io-OXw1OGOrc",
    "outputId": "6b26caad-0137-4ec7-8400-b7401fa8d3ca"
   },
   "outputs": [
    {
     "data": {
      "text/html": [
       "<div>\n",
       "<style scoped>\n",
       "    .dataframe tbody tr th:only-of-type {\n",
       "        vertical-align: middle;\n",
       "    }\n",
       "\n",
       "    .dataframe tbody tr th {\n",
       "        vertical-align: top;\n",
       "    }\n",
       "\n",
       "    .dataframe thead th {\n",
       "        text-align: right;\n",
       "    }\n",
       "</style>\n",
       "<table border=\"1\" class=\"dataframe\">\n",
       "  <thead>\n",
       "    <tr style=\"text-align: right;\">\n",
       "      <th></th>\n",
       "      <th>Unnamed: 0</th>\n",
       "      <th>acousticness</th>\n",
       "      <th>artists</th>\n",
       "      <th>danceability</th>\n",
       "      <th>duration_ms</th>\n",
       "      <th>energy</th>\n",
       "      <th>explicit</th>\n",
       "      <th>id</th>\n",
       "      <th>instrumentalness</th>\n",
       "      <th>key</th>\n",
       "      <th>...</th>\n",
       "      <th>loudness</th>\n",
       "      <th>mode</th>\n",
       "      <th>name</th>\n",
       "      <th>popularity</th>\n",
       "      <th>release_date</th>\n",
       "      <th>speechiness</th>\n",
       "      <th>tempo</th>\n",
       "      <th>valence</th>\n",
       "      <th>year</th>\n",
       "      <th>is_success</th>\n",
       "    </tr>\n",
       "  </thead>\n",
       "  <tbody>\n",
       "    <tr>\n",
       "      <th>0</th>\n",
       "      <td>6054</td>\n",
       "      <td>0.97200</td>\n",
       "      <td>['David Bauer']</td>\n",
       "      <td>0.567</td>\n",
       "      <td>313293</td>\n",
       "      <td>0.227</td>\n",
       "      <td>0</td>\n",
       "      <td>0w0D8H1ubRerCXHWYJkinO</td>\n",
       "      <td>0.601000</td>\n",
       "      <td>10</td>\n",
       "      <td>...</td>\n",
       "      <td>-13.441</td>\n",
       "      <td>1</td>\n",
       "      <td>Shout to the Lord</td>\n",
       "      <td>47</td>\n",
       "      <td>2000</td>\n",
       "      <td>0.0290</td>\n",
       "      <td>136.123</td>\n",
       "      <td>0.0396</td>\n",
       "      <td>2000</td>\n",
       "      <td>0</td>\n",
       "    </tr>\n",
       "    <tr>\n",
       "      <th>1</th>\n",
       "      <td>6055</td>\n",
       "      <td>0.32100</td>\n",
       "      <td>['Etta James']</td>\n",
       "      <td>0.821</td>\n",
       "      <td>360240</td>\n",
       "      <td>0.418</td>\n",
       "      <td>0</td>\n",
       "      <td>4JVeqfE2tpi7Pv63LJZtPh</td>\n",
       "      <td>0.000372</td>\n",
       "      <td>9</td>\n",
       "      <td>...</td>\n",
       "      <td>-9.841</td>\n",
       "      <td>0</td>\n",
       "      <td>Miss You</td>\n",
       "      <td>51</td>\n",
       "      <td>2000-12-12</td>\n",
       "      <td>0.0407</td>\n",
       "      <td>117.382</td>\n",
       "      <td>0.8030</td>\n",
       "      <td>2000</td>\n",
       "      <td>0</td>\n",
       "    </tr>\n",
       "    <tr>\n",
       "      <th>2</th>\n",
       "      <td>6056</td>\n",
       "      <td>0.00659</td>\n",
       "      <td>['Quasimoto']</td>\n",
       "      <td>0.706</td>\n",
       "      <td>202507</td>\n",
       "      <td>0.602</td>\n",
       "      <td>1</td>\n",
       "      <td>5pxtdhLAi0RTh1gNqhGMNA</td>\n",
       "      <td>0.000138</td>\n",
       "      <td>11</td>\n",
       "      <td>...</td>\n",
       "      <td>-8.306</td>\n",
       "      <td>0</td>\n",
       "      <td>Real Eyes</td>\n",
       "      <td>44</td>\n",
       "      <td>2000-06-13</td>\n",
       "      <td>0.3420</td>\n",
       "      <td>89.692</td>\n",
       "      <td>0.4790</td>\n",
       "      <td>2000</td>\n",
       "      <td>0</td>\n",
       "    </tr>\n",
       "    <tr>\n",
       "      <th>3</th>\n",
       "      <td>6057</td>\n",
       "      <td>0.00390</td>\n",
       "      <td>['Millencolin']</td>\n",
       "      <td>0.368</td>\n",
       "      <td>173360</td>\n",
       "      <td>0.977</td>\n",
       "      <td>0</td>\n",
       "      <td>3jRsoe4Vkxa4BMYqGHX8L0</td>\n",
       "      <td>0.000000</td>\n",
       "      <td>11</td>\n",
       "      <td>...</td>\n",
       "      <td>-2.757</td>\n",
       "      <td>0</td>\n",
       "      <td>Penguins &amp; Polarbears</td>\n",
       "      <td>52</td>\n",
       "      <td>2000-02-22</td>\n",
       "      <td>0.1270</td>\n",
       "      <td>165.889</td>\n",
       "      <td>0.5480</td>\n",
       "      <td>2000</td>\n",
       "      <td>0</td>\n",
       "    </tr>\n",
       "    <tr>\n",
       "      <th>4</th>\n",
       "      <td>6058</td>\n",
       "      <td>0.12200</td>\n",
       "      <td>['Steve Chou']</td>\n",
       "      <td>0.501</td>\n",
       "      <td>344200</td>\n",
       "      <td>0.511</td>\n",
       "      <td>0</td>\n",
       "      <td>4mronxcllhfyhBRqyZi8kU</td>\n",
       "      <td>0.000000</td>\n",
       "      <td>7</td>\n",
       "      <td>...</td>\n",
       "      <td>-9.836</td>\n",
       "      <td>0</td>\n",
       "      <td>黃昏</td>\n",
       "      <td>53</td>\n",
       "      <td>2000-12-25</td>\n",
       "      <td>0.0291</td>\n",
       "      <td>78.045</td>\n",
       "      <td>0.1130</td>\n",
       "      <td>2000</td>\n",
       "      <td>0</td>\n",
       "    </tr>\n",
       "    <tr>\n",
       "      <th>...</th>\n",
       "      <td>...</td>\n",
       "      <td>...</td>\n",
       "      <td>...</td>\n",
       "      <td>...</td>\n",
       "      <td>...</td>\n",
       "      <td>...</td>\n",
       "      <td>...</td>\n",
       "      <td>...</td>\n",
       "      <td>...</td>\n",
       "      <td>...</td>\n",
       "      <td>...</td>\n",
       "      <td>...</td>\n",
       "      <td>...</td>\n",
       "      <td>...</td>\n",
       "      <td>...</td>\n",
       "      <td>...</td>\n",
       "      <td>...</td>\n",
       "      <td>...</td>\n",
       "      <td>...</td>\n",
       "      <td>...</td>\n",
       "      <td>...</td>\n",
       "    </tr>\n",
       "    <tr>\n",
       "      <th>19995</th>\n",
       "      <td>168804</td>\n",
       "      <td>0.00303</td>\n",
       "      <td>['Hannah Montana']</td>\n",
       "      <td>0.720</td>\n",
       "      <td>155600</td>\n",
       "      <td>0.913</td>\n",
       "      <td>0</td>\n",
       "      <td>5J0d605KKCz4x8zbUKTaPe</td>\n",
       "      <td>0.000062</td>\n",
       "      <td>7</td>\n",
       "      <td>...</td>\n",
       "      <td>-3.670</td>\n",
       "      <td>1</td>\n",
       "      <td>Let's Get Crazy</td>\n",
       "      <td>52</td>\n",
       "      <td>2009-01-01</td>\n",
       "      <td>0.0491</td>\n",
       "      <td>124.997</td>\n",
       "      <td>0.8000</td>\n",
       "      <td>2009</td>\n",
       "      <td>1</td>\n",
       "    </tr>\n",
       "    <tr>\n",
       "      <th>19996</th>\n",
       "      <td>168805</td>\n",
       "      <td>0.01310</td>\n",
       "      <td>['Eminem']</td>\n",
       "      <td>0.635</td>\n",
       "      <td>304907</td>\n",
       "      <td>0.712</td>\n",
       "      <td>1</td>\n",
       "      <td>1PokNDiTBQZgXci6rn2BVE</td>\n",
       "      <td>0.000000</td>\n",
       "      <td>4</td>\n",
       "      <td>...</td>\n",
       "      <td>-5.151</td>\n",
       "      <td>0</td>\n",
       "      <td>Music Box</td>\n",
       "      <td>52</td>\n",
       "      <td>2009-05-15</td>\n",
       "      <td>0.1100</td>\n",
       "      <td>78.598</td>\n",
       "      <td>0.4580</td>\n",
       "      <td>2009</td>\n",
       "      <td>1</td>\n",
       "    </tr>\n",
       "    <tr>\n",
       "      <th>19997</th>\n",
       "      <td>168806</td>\n",
       "      <td>0.08730</td>\n",
       "      <td>['Tribal Seeds']</td>\n",
       "      <td>0.746</td>\n",
       "      <td>312200</td>\n",
       "      <td>0.695</td>\n",
       "      <td>0</td>\n",
       "      <td>2mVnrvWkiFTERSE2SL4QZ7</td>\n",
       "      <td>0.000073</td>\n",
       "      <td>1</td>\n",
       "      <td>...</td>\n",
       "      <td>-5.115</td>\n",
       "      <td>0</td>\n",
       "      <td>The Harvest</td>\n",
       "      <td>47</td>\n",
       "      <td>2009-05-26</td>\n",
       "      <td>0.0817</td>\n",
       "      <td>164.022</td>\n",
       "      <td>0.5910</td>\n",
       "      <td>2009</td>\n",
       "      <td>0</td>\n",
       "    </tr>\n",
       "    <tr>\n",
       "      <th>19998</th>\n",
       "      <td>168807</td>\n",
       "      <td>0.01530</td>\n",
       "      <td>['Wisin &amp; Yandel']</td>\n",
       "      <td>0.711</td>\n",
       "      <td>259067</td>\n",
       "      <td>0.860</td>\n",
       "      <td>0</td>\n",
       "      <td>27fNEGLckXrSf9ypb7d0BM</td>\n",
       "      <td>0.000000</td>\n",
       "      <td>8</td>\n",
       "      <td>...</td>\n",
       "      <td>-3.507</td>\n",
       "      <td>1</td>\n",
       "      <td>Te Siento</td>\n",
       "      <td>52</td>\n",
       "      <td>2009-01-01</td>\n",
       "      <td>0.0414</td>\n",
       "      <td>109.946</td>\n",
       "      <td>0.4040</td>\n",
       "      <td>2009</td>\n",
       "      <td>0</td>\n",
       "    </tr>\n",
       "    <tr>\n",
       "      <th>19999</th>\n",
       "      <td>168808</td>\n",
       "      <td>0.02310</td>\n",
       "      <td>['Calvin Harris']</td>\n",
       "      <td>0.618</td>\n",
       "      <td>231133</td>\n",
       "      <td>0.969</td>\n",
       "      <td>0</td>\n",
       "      <td>6ZpEmh8WAxGsr1KYpiFEZb</td>\n",
       "      <td>0.000001</td>\n",
       "      <td>11</td>\n",
       "      <td>...</td>\n",
       "      <td>-6.039</td>\n",
       "      <td>0</td>\n",
       "      <td>You Used To Hold Me</td>\n",
       "      <td>45</td>\n",
       "      <td>2009-08-18</td>\n",
       "      <td>0.0413</td>\n",
       "      <td>128.964</td>\n",
       "      <td>0.1900</td>\n",
       "      <td>2009</td>\n",
       "      <td>0</td>\n",
       "    </tr>\n",
       "  </tbody>\n",
       "</table>\n",
       "<p>20000 rows × 21 columns</p>\n",
       "</div>"
      ],
      "text/plain": [
       "       Unnamed: 0  acousticness             artists  danceability  \\\n",
       "0            6054       0.97200     ['David Bauer']         0.567   \n",
       "1            6055       0.32100      ['Etta James']         0.821   \n",
       "2            6056       0.00659       ['Quasimoto']         0.706   \n",
       "3            6057       0.00390     ['Millencolin']         0.368   \n",
       "4            6058       0.12200      ['Steve Chou']         0.501   \n",
       "...           ...           ...                 ...           ...   \n",
       "19995      168804       0.00303  ['Hannah Montana']         0.720   \n",
       "19996      168805       0.01310          ['Eminem']         0.635   \n",
       "19997      168806       0.08730    ['Tribal Seeds']         0.746   \n",
       "19998      168807       0.01530  ['Wisin & Yandel']         0.711   \n",
       "19999      168808       0.02310   ['Calvin Harris']         0.618   \n",
       "\n",
       "       duration_ms  energy  explicit                      id  \\\n",
       "0           313293   0.227         0  0w0D8H1ubRerCXHWYJkinO   \n",
       "1           360240   0.418         0  4JVeqfE2tpi7Pv63LJZtPh   \n",
       "2           202507   0.602         1  5pxtdhLAi0RTh1gNqhGMNA   \n",
       "3           173360   0.977         0  3jRsoe4Vkxa4BMYqGHX8L0   \n",
       "4           344200   0.511         0  4mronxcllhfyhBRqyZi8kU   \n",
       "...            ...     ...       ...                     ...   \n",
       "19995       155600   0.913         0  5J0d605KKCz4x8zbUKTaPe   \n",
       "19996       304907   0.712         1  1PokNDiTBQZgXci6rn2BVE   \n",
       "19997       312200   0.695         0  2mVnrvWkiFTERSE2SL4QZ7   \n",
       "19998       259067   0.860         0  27fNEGLckXrSf9ypb7d0BM   \n",
       "19999       231133   0.969         0  6ZpEmh8WAxGsr1KYpiFEZb   \n",
       "\n",
       "       instrumentalness  key  ...  loudness  mode                   name  \\\n",
       "0              0.601000   10  ...   -13.441     1      Shout to the Lord   \n",
       "1              0.000372    9  ...    -9.841     0               Miss You   \n",
       "2              0.000138   11  ...    -8.306     0              Real Eyes   \n",
       "3              0.000000   11  ...    -2.757     0  Penguins & Polarbears   \n",
       "4              0.000000    7  ...    -9.836     0                     黃昏   \n",
       "...                 ...  ...  ...       ...   ...                    ...   \n",
       "19995          0.000062    7  ...    -3.670     1        Let's Get Crazy   \n",
       "19996          0.000000    4  ...    -5.151     0              Music Box   \n",
       "19997          0.000073    1  ...    -5.115     0            The Harvest   \n",
       "19998          0.000000    8  ...    -3.507     1              Te Siento   \n",
       "19999          0.000001   11  ...    -6.039     0    You Used To Hold Me   \n",
       "\n",
       "      popularity  release_date speechiness    tempo  valence  year  is_success  \n",
       "0             47          2000      0.0290  136.123   0.0396  2000           0  \n",
       "1             51    2000-12-12      0.0407  117.382   0.8030  2000           0  \n",
       "2             44    2000-06-13      0.3420   89.692   0.4790  2000           0  \n",
       "3             52    2000-02-22      0.1270  165.889   0.5480  2000           0  \n",
       "4             53    2000-12-25      0.0291   78.045   0.1130  2000           0  \n",
       "...          ...           ...         ...      ...      ...   ...         ...  \n",
       "19995         52    2009-01-01      0.0491  124.997   0.8000  2009           1  \n",
       "19996         52    2009-05-15      0.1100   78.598   0.4580  2009           1  \n",
       "19997         47    2009-05-26      0.0817  164.022   0.5910  2009           0  \n",
       "19998         52    2009-01-01      0.0414  109.946   0.4040  2009           0  \n",
       "19999         45    2009-08-18      0.0413  128.964   0.1900  2009           0  \n",
       "\n",
       "[20000 rows x 21 columns]"
      ]
     },
     "execution_count": 690,
     "metadata": {},
     "output_type": "execute_result"
    }
   ],
   "source": [
    "data = pd.read_csv('cleaneddatav3.csv')\n",
    "data"
   ]
  },
  {
   "cell_type": "markdown",
   "metadata": {},
   "source": [
    "# Then, we download the word embeddings (this may take a while)."
   ]
  },
  {
   "cell_type": "code",
   "execution_count": 4,
   "metadata": {
    "colab": {
     "background_save": true,
     "base_uri": "https://localhost:8080/"
    },
    "executionInfo": {
     "elapsed": 206662,
     "status": "ok",
     "timestamp": 1607665195966,
     "user": {
      "displayName": "Mario Medina",
      "photoUrl": "",
      "userId": "06267997109573635573"
     },
     "user_tz": 480
    },
    "id": "KaRf6f4DEk-X",
    "scrolled": true
   },
   "outputs": [
    {
     "name": "stdout",
     "output_type": "stream",
     "text": [
      "--2020-12-10 22:18:16--  http://nlp.stanford.edu/data/glove.twitter.27B.zip\n",
      "Resolving nlp.stanford.edu (nlp.stanford.edu)... 171.64.67.140\n",
      "Connecting to nlp.stanford.edu (nlp.stanford.edu)|171.64.67.140|:80... connected.\n",
      "HTTP request sent, awaiting response... 302 Found\n",
      "Location: https://nlp.stanford.edu/data/glove.twitter.27B.zip [following]\n",
      "--2020-12-10 22:18:16--  https://nlp.stanford.edu/data/glove.twitter.27B.zip\n",
      "Connecting to nlp.stanford.edu (nlp.stanford.edu)|171.64.67.140|:443... connected.\n",
      "HTTP request sent, awaiting response... 301 Moved Permanently\n",
      "Location: http://downloads.cs.stanford.edu/nlp/data/glove.twitter.27B.zip [following]\n",
      "--2020-12-10 22:18:16--  http://downloads.cs.stanford.edu/nlp/data/glove.twitter.27B.zip\n",
      "Resolving downloads.cs.stanford.edu (downloads.cs.stanford.edu)... 171.64.64.22\n",
      "Connecting to downloads.cs.stanford.edu (downloads.cs.stanford.edu)|171.64.64.22|:80... connected.\n",
      "HTTP request sent, awaiting response... 200 OK\n",
      "Length: 1520408563 (1.4G) [application/zip]\n",
      "Saving to: ‘glove.twitter.27B.zip.1’\n",
      "\n",
      "glove.twitter.27B.z 100%[===================>]   1.42G  2.20MB/s    in 14m 43s \n",
      "\n",
      "2020-12-10 22:32:59 (1.64 MB/s) - ‘glove.twitter.27B.zip.1’ saved [1520408563/1520408563]\n",
      "\n"
     ]
    }
   ],
   "source": [
    "!wget http://nlp.stanford.edu/data/glove.twitter.27B.zip"
   ]
  },
  {
   "cell_type": "code",
   "execution_count": null,
   "metadata": {
    "colab": {
     "background_save": true,
     "base_uri": "https://localhost:8080/"
    },
    "id": "zSjjmSTZEoV-"
   },
   "outputs": [
    {
     "name": "stdout",
     "output_type": "stream",
     "text": [
      "Archive:  glove.twitter.27B.zip\r\n",
      "replace glove.twitter.27B.25d.txt? [y]es, [n]o, [A]ll, [N]one, [r]ename: "
     ]
    }
   ],
   "source": [
    "!unzip glove.twitter.27B.zip"
   ]
  },
  {
   "cell_type": "code",
   "execution_count": null,
   "metadata": {
    "colab": {
     "background_save": true
    },
    "id": "oWcuRi0mE2Cf"
   },
   "outputs": [],
   "source": []
  },
  {
   "cell_type": "code",
   "execution_count": null,
   "metadata": {
    "colab": {
     "background_save": true
    },
    "id": "hnsjYt5UgWzg"
   },
   "outputs": [],
   "source": []
  },
  {
   "cell_type": "code",
   "execution_count": 777,
   "metadata": {
    "colab": {
     "background_save": true
    },
    "id": "HFkh_ysHEqn3"
   },
   "outputs": [
    {
     "name": "stdout",
     "output_type": "stream",
     "text": [
      "Indexing word vectors.\n",
      "Found 1193514 word vectors.\n"
     ]
    }
   ],
   "source": [
    "print('Indexing word vectors.')\n",
    "\n",
    "embeddings_index = {}\n",
    "f = open('glove.twitter.27B.200d.txt', encoding='utf-8')\n",
    "for line in f:\n",
    "    values = line.split()\n",
    "    word = values[0]\n",
    "    coefs = np.asarray(values[1:], dtype='float32')\n",
    "    embeddings_index[word] = coefs\n",
    "f.close()\n",
    "\n",
    "print('Found %s word vectors.' % len(embeddings_index))"
   ]
  },
  {
   "cell_type": "markdown",
   "metadata": {},
   "source": [
    "# We then write functions to find and sum the word embeddings of artist names and song names. To include song names, uncomment the commented lines below."
   ]
  },
  {
   "cell_type": "code",
   "execution_count": 798,
   "metadata": {
    "colab": {
     "background_save": true
    },
    "id": "4Q3cQj9gUbY7"
   },
   "outputs": [],
   "source": [
    "def convertToEm(artists):\n",
    "  arr = ast.literal_eval(artists)\n",
    "  embeds = np.zeros(200)\n",
    "  for i in arr:\n",
    "    strs = i.split()\n",
    "    for w in strs:\n",
    "      check = w.lower()\n",
    "      if check in embeddings_index:\n",
    "        embeds = np.add(embeds, embeddings_index[check])\n",
    "  return embeds\n"
   ]
  },
  {
   "cell_type": "code",
   "execution_count": null,
   "metadata": {
    "colab": {
     "background_save": true
    },
    "id": "UJqG9J3-oS-L"
   },
   "outputs": [],
   "source": [
    "\n"
   ]
  },
  {
   "cell_type": "code",
   "execution_count": null,
   "metadata": {
    "colab": {
     "background_save": true
    },
    "id": "eTDEGPEybcE3"
   },
   "outputs": [],
   "source": [
    "words = set()\n",
    "hasEmbeds = set()\n",
    "for index, r in data.iterrows():\n",
    "  arr = ast.literal_eval(r.artists)\n",
    "  for i in arr:\n",
    "    strs = i.split()\n",
    "    for w in strs:\n",
    "      check = w.lower()\n",
    "      if check in embeddings_index:\n",
    "        hasEmbeds.add(check)\n",
    "  "
   ]
  },
  {
   "cell_type": "code",
   "execution_count": null,
   "metadata": {
    "colab": {
     "background_save": true
    },
    "id": "xPBmxZ5Vpalh"
   },
   "outputs": [],
   "source": [
    "df_names = []\n",
    "for i in data['name']:\n",
    "  df_names.append(i.replace(\"'\",\"\").replace('(','').replace(')','').replace(\" -\",'').replace(',','').replace(\"[\",'').replace(\"]\",'').lower().split())"
   ]
  },
  {
   "cell_type": "code",
   "execution_count": null,
   "metadata": {
    "colab": {
     "background_save": true
    },
    "id": "lxvN1qBYwmYo"
   },
   "outputs": [],
   "source": [
    "words = set()\n",
    "hasEmbeds2 = set()\n",
    "for r in df_names:\n",
    "  for k in r:\n",
    "    check = k.lower()\n",
    "    if check in embeddings_index:\n",
    "      hasEmbeds2.add(check)"
   ]
  },
  {
   "cell_type": "code",
   "execution_count": null,
   "metadata": {
    "colab": {
     "background_save": true
    },
    "id": "8n6MDQAWC-Zz"
   },
   "outputs": [],
   "source": [
    "def convertToEm2(names):\n",
    "  embeds = np.zeros(25)\n",
    "  arr = names\n",
    "  for i in arr:\n",
    "    strs = i.split()\n",
    "    for w in strs:\n",
    "      check = w.lower()\n",
    "      if check in embeddings_index:\n",
    "        embeds = np.add(embeds, embeddings_index[check])\n",
    "  return embeds\n"
   ]
  },
  {
   "cell_type": "code",
   "execution_count": null,
   "metadata": {},
   "outputs": [],
   "source": [
    "data['vector'] = data['artists'].apply(convertToEm)\n",
    "data['vector']"
   ]
  },
  {
   "cell_type": "code",
   "execution_count": 853,
   "metadata": {
    "colab": {
     "background_save": true
    },
    "id": "LfeBG5NNeSkS"
   },
   "outputs": [],
   "source": [
    "#data['vector2'] = df_names\n",
    "#data['vector2'] = data['vector2'].apply(convertToEm2)"
   ]
  },
  {
   "cell_type": "code",
   "execution_count": null,
   "metadata": {
    "colab": {
     "background_save": true
    },
    "id": "zbtDRjDLeUiX"
   },
   "outputs": [],
   "source": [
    "data = data.drop(columns = ['Unnamed: 0', 'artists', 'id', 'name', 'release_date','popularity'])"
   ]
  },
  {
   "cell_type": "code",
   "execution_count": null,
   "metadata": {
    "colab": {
     "background_save": true
    },
    "id": "cWIpgXOp4B-L"
   },
   "outputs": [],
   "source": [
    "df = pd.DataFrame(data['vector'].values.tolist())\n",
    "#df2 = pd.DataFrame(data['vector2'].values.tolist())"
   ]
  },
  {
   "cell_type": "code",
   "execution_count": 855,
   "metadata": {
    "colab": {
     "background_save": true
    },
    "id": "1iYP8-ETor_J"
   },
   "outputs": [],
   "source": [
    "#df2.rename(columns=dict(zip(df2.columns, df2.columns+200)), inplace=True)"
   ]
  },
  {
   "cell_type": "code",
   "execution_count": 856,
   "metadata": {
    "colab": {
     "background_save": true
    },
    "id": "Vk3qE87IiCkC"
   },
   "outputs": [],
   "source": [
    "data = pd.concat([data, df], axis=1)\n",
    "#data = pd.concat([data, df2], axis=1)\n",
    "data"
   ]
  },
  {
   "cell_type": "code",
   "execution_count": null,
   "metadata": {
    "colab": {
     "background_save": true
    },
    "id": "f5WitWLsQLok"
   },
   "outputs": [],
   "source": [
    "data = data.drop('vector', axis=1)\n",
    "#data = data.drop('vector2', axis=1)"
   ]
  },
  {
   "cell_type": "code",
   "execution_count": null,
   "metadata": {
    "colab": {
     "background_save": true
    },
    "id": "zP48t_opj5K1"
   },
   "outputs": [],
   "source": [
    "X = data.drop('is_success',axis = 1)\n",
    "y = data['is_success']"
   ]
  },
  {
   "cell_type": "markdown",
   "metadata": {},
   "source": [
    "# Next we split the data into train and test sets."
   ]
  },
  {
   "cell_type": "code",
   "execution_count": null,
   "metadata": {
    "colab": {
     "background_save": true
    },
    "id": "WP8zHooylj9p"
   },
   "outputs": [],
   "source": [
    "from sklearn.model_selection import train_test_split\n",
    "\n",
    "X_train, X_test, y_train, y_test = train_test_split(X, y, test_size=0.30, random_state=90"
   ]
  },
  {
   "cell_type": "markdown",
   "metadata": {
    "colab": {
     "background_save": true
    },
    "id": "c4sjWjp-22qK"
   },
   "source": [
    "# Next we upsample our training set. To downsample, replace df_min with df_maj and vice versa in all the lines below the commented line."
   ]
  },
  {
   "cell_type": "code",
   "execution_count": 861,
   "metadata": {
    "colab": {
     "background_save": true
    },
    "id": "EawLq3WDQh75"
   },
   "outputs": [
    {
     "name": "stderr",
     "output_type": "stream",
     "text": [
      "<ipython-input-861-1068ffabfdff>:3: SettingWithCopyWarning: \n",
      "A value is trying to be set on a copy of a slice from a DataFrame.\n",
      "Try using .loc[row_indexer,col_indexer] = value instead\n",
      "\n",
      "See the caveats in the documentation: https://pandas.pydata.org/pandas-docs/stable/user_guide/indexing.html#returning-a-view-versus-a-copy\n",
      "  X_train['is_success'] = y_train\n"
     ]
    }
   ],
   "source": [
    "from sklearn.utils import resample\n",
    "import random\n",
    "X_train['is_success'] = y_train\n",
    "df_train = X_train\n",
    "df_maj = df_train[df_train['is_success']==0]\n",
    "df_min = df_train[df_train['is_success']==1]\n",
    "#############################################################################################\n",
    "n = len(df_maj)\n",
    "df_sampled = resample(df_min,replace=True, n_samples=n,random_state=123)\n",
    "df_comb = df_maj.append(df_sampled).sample(frac=1)\n",
    "X_train = df_comb.drop('is_success',axis = 1)\n",
    "y_train = df_comb['is_success']"
   ]
  },
  {
   "cell_type": "code",
   "execution_count": 870,
   "metadata": {
    "colab": {
     "background_save": true
    },
    "id": "bI7w4Jua22qK"
   },
   "outputs": [
    {
     "data": {
      "text/html": [
       "<div>\n",
       "<style scoped>\n",
       "    .dataframe tbody tr th:only-of-type {\n",
       "        vertical-align: middle;\n",
       "    }\n",
       "\n",
       "    .dataframe tbody tr th {\n",
       "        vertical-align: top;\n",
       "    }\n",
       "\n",
       "    .dataframe thead th {\n",
       "        text-align: right;\n",
       "    }\n",
       "</style>\n",
       "<table border=\"1\" class=\"dataframe\">\n",
       "  <thead>\n",
       "    <tr style=\"text-align: right;\">\n",
       "      <th></th>\n",
       "      <th>acousticness</th>\n",
       "      <th>danceability</th>\n",
       "      <th>duration_ms</th>\n",
       "      <th>energy</th>\n",
       "      <th>explicit</th>\n",
       "      <th>instrumentalness</th>\n",
       "      <th>key</th>\n",
       "      <th>liveness</th>\n",
       "      <th>loudness</th>\n",
       "      <th>mode</th>\n",
       "      <th>...</th>\n",
       "      <th>190</th>\n",
       "      <th>191</th>\n",
       "      <th>192</th>\n",
       "      <th>193</th>\n",
       "      <th>194</th>\n",
       "      <th>195</th>\n",
       "      <th>196</th>\n",
       "      <th>197</th>\n",
       "      <th>198</th>\n",
       "      <th>199</th>\n",
       "    </tr>\n",
       "  </thead>\n",
       "  <tbody>\n",
       "    <tr>\n",
       "      <th>21682</th>\n",
       "      <td>0.1690</td>\n",
       "      <td>0.480</td>\n",
       "      <td>206587</td>\n",
       "      <td>0.928</td>\n",
       "      <td>0</td>\n",
       "      <td>0.000000</td>\n",
       "      <td>4</td>\n",
       "      <td>0.0479</td>\n",
       "      <td>-5.501</td>\n",
       "      <td>1</td>\n",
       "      <td>...</td>\n",
       "      <td>0.951237</td>\n",
       "      <td>0.682730</td>\n",
       "      <td>0.877220</td>\n",
       "      <td>-0.927200</td>\n",
       "      <td>0.676982</td>\n",
       "      <td>-0.539576</td>\n",
       "      <td>0.564151</td>\n",
       "      <td>0.80333</td>\n",
       "      <td>-0.601177</td>\n",
       "      <td>-1.071780</td>\n",
       "    </tr>\n",
       "    <tr>\n",
       "      <th>29867</th>\n",
       "      <td>0.6980</td>\n",
       "      <td>0.548</td>\n",
       "      <td>237333</td>\n",
       "      <td>0.402</td>\n",
       "      <td>0</td>\n",
       "      <td>0.000114</td>\n",
       "      <td>2</td>\n",
       "      <td>0.1350</td>\n",
       "      <td>-8.727</td>\n",
       "      <td>1</td>\n",
       "      <td>...</td>\n",
       "      <td>-0.082449</td>\n",
       "      <td>0.267909</td>\n",
       "      <td>0.798040</td>\n",
       "      <td>-0.148500</td>\n",
       "      <td>-0.171560</td>\n",
       "      <td>-0.242690</td>\n",
       "      <td>1.766840</td>\n",
       "      <td>0.99689</td>\n",
       "      <td>-0.871880</td>\n",
       "      <td>-0.766085</td>\n",
       "    </tr>\n",
       "    <tr>\n",
       "      <th>10320</th>\n",
       "      <td>0.0270</td>\n",
       "      <td>0.879</td>\n",
       "      <td>156284</td>\n",
       "      <td>0.732</td>\n",
       "      <td>0</td>\n",
       "      <td>0.000000</td>\n",
       "      <td>11</td>\n",
       "      <td>0.0656</td>\n",
       "      <td>-5.016</td>\n",
       "      <td>0</td>\n",
       "      <td>...</td>\n",
       "      <td>0.000000</td>\n",
       "      <td>0.000000</td>\n",
       "      <td>0.000000</td>\n",
       "      <td>0.000000</td>\n",
       "      <td>0.000000</td>\n",
       "      <td>0.000000</td>\n",
       "      <td>0.000000</td>\n",
       "      <td>0.00000</td>\n",
       "      <td>0.000000</td>\n",
       "      <td>0.000000</td>\n",
       "    </tr>\n",
       "    <tr>\n",
       "      <th>21725</th>\n",
       "      <td>0.2440</td>\n",
       "      <td>0.798</td>\n",
       "      <td>293053</td>\n",
       "      <td>0.443</td>\n",
       "      <td>1</td>\n",
       "      <td>0.000000</td>\n",
       "      <td>2</td>\n",
       "      <td>0.3260</td>\n",
       "      <td>-6.062</td>\n",
       "      <td>1</td>\n",
       "      <td>...</td>\n",
       "      <td>0.715740</td>\n",
       "      <td>0.407140</td>\n",
       "      <td>-0.808940</td>\n",
       "      <td>0.295330</td>\n",
       "      <td>0.261620</td>\n",
       "      <td>-0.567750</td>\n",
       "      <td>0.063045</td>\n",
       "      <td>-0.42014</td>\n",
       "      <td>0.082703</td>\n",
       "      <td>-0.607620</td>\n",
       "    </tr>\n",
       "    <tr>\n",
       "      <th>5683</th>\n",
       "      <td>0.6650</td>\n",
       "      <td>0.357</td>\n",
       "      <td>188133</td>\n",
       "      <td>0.361</td>\n",
       "      <td>0</td>\n",
       "      <td>0.005920</td>\n",
       "      <td>0</td>\n",
       "      <td>0.0682</td>\n",
       "      <td>-12.140</td>\n",
       "      <td>1</td>\n",
       "      <td>...</td>\n",
       "      <td>-0.780900</td>\n",
       "      <td>0.562960</td>\n",
       "      <td>0.706170</td>\n",
       "      <td>-0.405420</td>\n",
       "      <td>-0.151110</td>\n",
       "      <td>0.038366</td>\n",
       "      <td>0.193380</td>\n",
       "      <td>-0.14097</td>\n",
       "      <td>-0.636540</td>\n",
       "      <td>-0.405560</td>\n",
       "    </tr>\n",
       "    <tr>\n",
       "      <th>...</th>\n",
       "      <td>...</td>\n",
       "      <td>...</td>\n",
       "      <td>...</td>\n",
       "      <td>...</td>\n",
       "      <td>...</td>\n",
       "      <td>...</td>\n",
       "      <td>...</td>\n",
       "      <td>...</td>\n",
       "      <td>...</td>\n",
       "      <td>...</td>\n",
       "      <td>...</td>\n",
       "      <td>...</td>\n",
       "      <td>...</td>\n",
       "      <td>...</td>\n",
       "      <td>...</td>\n",
       "      <td>...</td>\n",
       "      <td>...</td>\n",
       "      <td>...</td>\n",
       "      <td>...</td>\n",
       "      <td>...</td>\n",
       "      <td>...</td>\n",
       "    </tr>\n",
       "    <tr>\n",
       "      <th>12984</th>\n",
       "      <td>0.0966</td>\n",
       "      <td>0.730</td>\n",
       "      <td>239627</td>\n",
       "      <td>0.700</td>\n",
       "      <td>0</td>\n",
       "      <td>0.000144</td>\n",
       "      <td>9</td>\n",
       "      <td>0.1140</td>\n",
       "      <td>-8.648</td>\n",
       "      <td>1</td>\n",
       "      <td>...</td>\n",
       "      <td>-0.219859</td>\n",
       "      <td>-0.581400</td>\n",
       "      <td>-0.131920</td>\n",
       "      <td>-0.160220</td>\n",
       "      <td>-0.460840</td>\n",
       "      <td>-0.289830</td>\n",
       "      <td>-0.089420</td>\n",
       "      <td>-0.12725</td>\n",
       "      <td>-0.509018</td>\n",
       "      <td>-0.031100</td>\n",
       "    </tr>\n",
       "    <tr>\n",
       "      <th>15153</th>\n",
       "      <td>0.1900</td>\n",
       "      <td>0.407</td>\n",
       "      <td>295320</td>\n",
       "      <td>0.678</td>\n",
       "      <td>0</td>\n",
       "      <td>0.000000</td>\n",
       "      <td>2</td>\n",
       "      <td>0.3420</td>\n",
       "      <td>-6.135</td>\n",
       "      <td>1</td>\n",
       "      <td>...</td>\n",
       "      <td>0.049430</td>\n",
       "      <td>-0.647250</td>\n",
       "      <td>0.291100</td>\n",
       "      <td>0.251444</td>\n",
       "      <td>1.770500</td>\n",
       "      <td>0.037858</td>\n",
       "      <td>2.132870</td>\n",
       "      <td>0.30359</td>\n",
       "      <td>-0.641000</td>\n",
       "      <td>-1.240430</td>\n",
       "    </tr>\n",
       "    <tr>\n",
       "      <th>243</th>\n",
       "      <td>0.3720</td>\n",
       "      <td>0.680</td>\n",
       "      <td>244507</td>\n",
       "      <td>0.590</td>\n",
       "      <td>0</td>\n",
       "      <td>0.000027</td>\n",
       "      <td>9</td>\n",
       "      <td>0.1250</td>\n",
       "      <td>-7.601</td>\n",
       "      <td>0</td>\n",
       "      <td>...</td>\n",
       "      <td>-0.197020</td>\n",
       "      <td>0.438283</td>\n",
       "      <td>0.580803</td>\n",
       "      <td>1.329000</td>\n",
       "      <td>0.002350</td>\n",
       "      <td>-1.195640</td>\n",
       "      <td>0.762230</td>\n",
       "      <td>0.17651</td>\n",
       "      <td>-0.752000</td>\n",
       "      <td>-1.202950</td>\n",
       "    </tr>\n",
       "    <tr>\n",
       "      <th>22594</th>\n",
       "      <td>0.2050</td>\n",
       "      <td>0.870</td>\n",
       "      <td>251989</td>\n",
       "      <td>0.464</td>\n",
       "      <td>1</td>\n",
       "      <td>0.000000</td>\n",
       "      <td>4</td>\n",
       "      <td>0.0902</td>\n",
       "      <td>-8.337</td>\n",
       "      <td>1</td>\n",
       "      <td>...</td>\n",
       "      <td>-0.649394</td>\n",
       "      <td>1.501188</td>\n",
       "      <td>-1.390750</td>\n",
       "      <td>0.919300</td>\n",
       "      <td>-0.125014</td>\n",
       "      <td>-1.233690</td>\n",
       "      <td>0.874770</td>\n",
       "      <td>0.64978</td>\n",
       "      <td>-0.546810</td>\n",
       "      <td>-2.426220</td>\n",
       "    </tr>\n",
       "    <tr>\n",
       "      <th>31083</th>\n",
       "      <td>0.2680</td>\n",
       "      <td>0.783</td>\n",
       "      <td>264000</td>\n",
       "      <td>0.764</td>\n",
       "      <td>1</td>\n",
       "      <td>0.000001</td>\n",
       "      <td>8</td>\n",
       "      <td>0.1140</td>\n",
       "      <td>-5.146</td>\n",
       "      <td>1</td>\n",
       "      <td>...</td>\n",
       "      <td>0.330606</td>\n",
       "      <td>0.989630</td>\n",
       "      <td>-0.517920</td>\n",
       "      <td>-0.856750</td>\n",
       "      <td>0.708380</td>\n",
       "      <td>0.125819</td>\n",
       "      <td>-0.257730</td>\n",
       "      <td>0.70501</td>\n",
       "      <td>0.323390</td>\n",
       "      <td>-0.080336</td>\n",
       "    </tr>\n",
       "  </tbody>\n",
       "</table>\n",
       "<p>56872 rows × 214 columns</p>\n",
       "</div>"
      ],
      "text/plain": [
       "       acousticness  danceability  duration_ms  energy  explicit  \\\n",
       "21682        0.1690         0.480       206587   0.928         0   \n",
       "29867        0.6980         0.548       237333   0.402         0   \n",
       "10320        0.0270         0.879       156284   0.732         0   \n",
       "21725        0.2440         0.798       293053   0.443         1   \n",
       "5683         0.6650         0.357       188133   0.361         0   \n",
       "...             ...           ...          ...     ...       ...   \n",
       "12984        0.0966         0.730       239627   0.700         0   \n",
       "15153        0.1900         0.407       295320   0.678         0   \n",
       "243          0.3720         0.680       244507   0.590         0   \n",
       "22594        0.2050         0.870       251989   0.464         1   \n",
       "31083        0.2680         0.783       264000   0.764         1   \n",
       "\n",
       "       instrumentalness  key  liveness  loudness  mode  ...       190  \\\n",
       "21682          0.000000    4    0.0479    -5.501     1  ...  0.951237   \n",
       "29867          0.000114    2    0.1350    -8.727     1  ... -0.082449   \n",
       "10320          0.000000   11    0.0656    -5.016     0  ...  0.000000   \n",
       "21725          0.000000    2    0.3260    -6.062     1  ...  0.715740   \n",
       "5683           0.005920    0    0.0682   -12.140     1  ... -0.780900   \n",
       "...                 ...  ...       ...       ...   ...  ...       ...   \n",
       "12984          0.000144    9    0.1140    -8.648     1  ... -0.219859   \n",
       "15153          0.000000    2    0.3420    -6.135     1  ...  0.049430   \n",
       "243            0.000027    9    0.1250    -7.601     0  ... -0.197020   \n",
       "22594          0.000000    4    0.0902    -8.337     1  ... -0.649394   \n",
       "31083          0.000001    8    0.1140    -5.146     1  ...  0.330606   \n",
       "\n",
       "            191       192       193       194       195       196      197  \\\n",
       "21682  0.682730  0.877220 -0.927200  0.676982 -0.539576  0.564151  0.80333   \n",
       "29867  0.267909  0.798040 -0.148500 -0.171560 -0.242690  1.766840  0.99689   \n",
       "10320  0.000000  0.000000  0.000000  0.000000  0.000000  0.000000  0.00000   \n",
       "21725  0.407140 -0.808940  0.295330  0.261620 -0.567750  0.063045 -0.42014   \n",
       "5683   0.562960  0.706170 -0.405420 -0.151110  0.038366  0.193380 -0.14097   \n",
       "...         ...       ...       ...       ...       ...       ...      ...   \n",
       "12984 -0.581400 -0.131920 -0.160220 -0.460840 -0.289830 -0.089420 -0.12725   \n",
       "15153 -0.647250  0.291100  0.251444  1.770500  0.037858  2.132870  0.30359   \n",
       "243    0.438283  0.580803  1.329000  0.002350 -1.195640  0.762230  0.17651   \n",
       "22594  1.501188 -1.390750  0.919300 -0.125014 -1.233690  0.874770  0.64978   \n",
       "31083  0.989630 -0.517920 -0.856750  0.708380  0.125819 -0.257730  0.70501   \n",
       "\n",
       "            198       199  \n",
       "21682 -0.601177 -1.071780  \n",
       "29867 -0.871880 -0.766085  \n",
       "10320  0.000000  0.000000  \n",
       "21725  0.082703 -0.607620  \n",
       "5683  -0.636540 -0.405560  \n",
       "...         ...       ...  \n",
       "12984 -0.509018 -0.031100  \n",
       "15153 -0.641000 -1.240430  \n",
       "243   -0.752000 -1.202950  \n",
       "22594 -0.546810 -2.426220  \n",
       "31083  0.323390 -0.080336  \n",
       "\n",
       "[56872 rows x 214 columns]"
      ]
     },
     "execution_count": 870,
     "metadata": {},
     "output_type": "execute_result"
    }
   ],
   "source": [
    "X_train"
   ]
  },
  {
   "cell_type": "markdown",
   "metadata": {
    "colab": {
     "background_save": true
    },
    "id": "bL6dIaNWRMek"
   },
   "source": [
    "# Models"
   ]
  },
  {
   "cell_type": "code",
   "execution_count": 871,
   "metadata": {
    "colab": {
     "background_save": true
    },
    "id": "R9K-_Z2p-TEr"
   },
   "outputs": [],
   "source": [
    "from sklearn.svm import SVC\n",
    "from sklearn.neural_network import MLPClassifier\n",
    "import xgboost as xgb\n",
    "from xgboost import plot_importance"
   ]
  },
  {
   "cell_type": "markdown",
   "metadata": {},
   "source": [
    "# XGBoost"
   ]
  },
  {
   "cell_type": "code",
   "execution_count": 865,
   "metadata": {
    "colab": {
     "background_save": true
    },
    "id": "Aeo6EtJA0aJO"
   },
   "outputs": [],
   "source": [
    "train_xgb = xgb.DMatrix(X_train, label = y_train)\n",
    "test_xgb = xgb.DMatrix(X_test, label = y_test)"
   ]
  },
  {
   "cell_type": "code",
   "execution_count": 866,
   "metadata": {
    "id": "eSxNeZhc0dKn"
   },
   "outputs": [],
   "source": [
    "param = {\n",
    "    'max_depth': 100,\n",
    "    'eta': 0.3,\n",
    "    'objective': 'binary:logistic',\n",
    "    'alpha':0.0001,\n",
    "    'lambda': 0.01\n",
    "}\n",
    "epochs = 100\n",
    "model_xgb = xgb.train(param, train_xgb, epochs)"
   ]
  },
  {
   "cell_type": "code",
   "execution_count": null,
   "metadata": {},
   "outputs": [],
   "source": [
    "pred1 = model_xgb.predict(test_xgb)\n",
    "pred_xgb = (pred > 0.50)"
   ]
  },
  {
   "cell_type": "code",
   "execution_count": null,
   "metadata": {},
   "outputs": [],
   "source": [
    "from sklearn.metrics import accuracy_score, recall_score, confusion_matrix\n",
    "print('Accuracy:')\n",
    "print(accuracy_score(y_test,pred_xgb))\n",
    "print()\n",
    "print('Recall:')\n",
    "print(recall_score(y_test,pred_xgb))\n",
    "print()\n",
    "print('Confusion:')\n",
    "confusion_matrix(y_test,pred_xgb)"
   ]
  },
  {
   "cell_type": "code",
   "execution_count": null,
   "metadata": {},
   "outputs": [],
   "source": [
    "from matplotlib import pyplot as plt\n",
    "plt.rcParams['axes.labelsize'] = 18\n",
    "plt.rcParams['axes.titlesize'] = 22\n",
    "fig, ax = plt.subplots(figsize=(6,6))\n",
    "xgb.plot_importance(model_xgb, max_num_features=5, height=0.5, ax=ax, color = 'orange')\n",
    "plt.grid(b=None)\n",
    "plt.title('Feature Importance')\n",
    "plt.xlabel('F-Score')\n",
    "plt.ylabel('Song Trait')\n",
    "plt.xticks(fontsize = 14)\n",
    "plt.yticks(fontsize = 14)\n",
    "plt.show()"
   ]
  },
  {
   "cell_type": "markdown",
   "metadata": {},
   "source": [
    "# SVM"
   ]
  },
  {
   "cell_type": "code",
   "execution_count": 491,
   "metadata": {
    "id": "F4VB3eValCo8"
   },
   "outputs": [],
   "source": [
    "model_svm = SVC(C=100000, gamma='auto')"
   ]
  },
  {
   "cell_type": "code",
   "execution_count": 771,
   "metadata": {
    "colab": {
     "base_uri": "https://localhost:8080/",
     "height": 439
    },
    "executionInfo": {
     "elapsed": 117008,
     "status": "ok",
     "timestamp": 1607417072834,
     "user": {
      "displayName": "Mario Medina",
      "photoUrl": "",
      "userId": "06267997109573635573"
     },
     "user_tz": 480
    },
    "id": "UqvbE2_z5amc",
    "outputId": "5baa4e19-14aa-4c0f-b568-301af15b1dfe"
   },
   "outputs": [],
   "source": [
    "model.fit(X_train, y_train)"
   ]
  },
  {
   "cell_type": "code",
   "execution_count": null,
   "metadata": {
    "id": "Xhm3NBfSU0BW"
   },
   "outputs": [],
   "source": [
    "pred_svm = model_svm.predict(X_test)"
   ]
  },
  {
   "cell_type": "code",
   "execution_count": 492,
   "metadata": {
    "colab": {
     "base_uri": "https://localhost:8080/"
    },
    "executionInfo": {
     "elapsed": 50818,
     "status": "ok",
     "timestamp": 1607415613840,
     "user": {
      "displayName": "Mario Medina",
      "photoUrl": "",
      "userId": "06267997109573635573"
     },
     "user_tz": 480
    },
    "id": "dWH5dxpm4UjQ",
    "outputId": "76a706ed-4493-44bb-c299-5d4b54fa7ad6"
   },
   "outputs": [
    {
     "data": {
      "text/plain": [
       "SVC(C=100000, gamma='auto')"
      ]
     },
     "execution_count": 492,
     "metadata": {},
     "output_type": "execute_result"
    }
   ],
   "source": [
    "print('Accuracy:')\n",
    "print(accuracy_score(y_test,pred_svm))\n",
    "print()\n",
    "print('Recall:')\n",
    "print(recall_score(y_test,pred_svm))\n",
    "print()\n",
    "print('Confusion:')\n",
    "confusion_matrix(y_test,pred_svm)"
   ]
  },
  {
   "cell_type": "code",
   "execution_count": null,
   "metadata": {
    "colab": {
     "base_uri": "https://localhost:8080/",
     "height": 142
    },
    "executionInfo": {
     "elapsed": 875,
     "status": "ok",
     "timestamp": 1607417533767,
     "user": {
      "displayName": "Mario Medina",
      "photoUrl": "",
      "userId": "06267997109573635573"
     },
     "user_tz": 480
    },
    "id": "rwRSJjqm-XV3",
    "outputId": "1c27d103-c327-4d2d-ef2e-410067a509ee"
   },
   "outputs": [],
   "source": []
  },
  {
   "cell_type": "code",
   "execution_count": null,
   "metadata": {
    "colab": {
     "base_uri": "https://localhost:8080/"
    },
    "executionInfo": {
     "elapsed": 882,
     "status": "ok",
     "timestamp": 1607331937365,
     "user": {
      "displayName": "Mario Medina",
      "photoUrl": "",
      "userId": "06267997109573635573"
     },
     "user_tz": 480
    },
    "id": "BDGH1R1Icody",
    "outputId": "59ebd2c4-886b-4225-94c2-fecb0178a370"
   },
   "outputs": [],
   "source": []
  },
  {
   "cell_type": "code",
   "execution_count": null,
   "metadata": {
    "colab": {
     "base_uri": "https://localhost:8080/"
    },
    "executionInfo": {
     "elapsed": 865,
     "status": "ok",
     "timestamp": 1607417533769,
     "user": {
      "displayName": "Mario Medina",
      "photoUrl": "",
      "userId": "06267997109573635573"
     },
     "user_tz": 480
    },
    "id": "X4au67JbR-Qj",
    "outputId": "a28c428d-ffae-4f10-a189-367c23a9f3bc"
   },
   "outputs": [],
   "source": []
  },
  {
   "cell_type": "code",
   "execution_count": null,
   "metadata": {
    "colab": {
     "base_uri": "https://localhost:8080/"
    },
    "executionInfo": {
     "elapsed": 422,
     "status": "ok",
     "timestamp": 1607417229953,
     "user": {
      "displayName": "Mario Medina",
      "photoUrl": "",
      "userId": "06267997109573635573"
     },
     "user_tz": 480
    },
    "id": "-JpYa5azSIx9",
    "outputId": "dabcae30-aa72-44dd-8df4-92043a456512",
    "scrolled": true
   },
   "outputs": [],
   "source": []
  },
  {
   "cell_type": "code",
   "execution_count": null,
   "metadata": {
    "colab": {
     "base_uri": "https://localhost:8080/"
    },
    "executionInfo": {
     "elapsed": 924679,
     "status": "ok",
     "timestamp": 1607219692288,
     "user": {
      "displayName": "Darren Ting",
      "photoUrl": "",
      "userId": "02818186018180765997"
     },
     "user_tz": 300
    },
    "id": "J3eDJY_H74IZ",
    "outputId": "36912943-f43e-4342-c835-c538e1ad6d85"
   },
   "outputs": [],
   "source": []
  },
  {
   "cell_type": "code",
   "execution_count": null,
   "metadata": {
    "id": "qqFfRaBUSgtF",
    "outputId": "03d0ca70-a535-4251-a3d1-48b17c8a887a"
   },
   "outputs": [],
   "source": []
  },
  {
   "cell_type": "code",
   "execution_count": null,
   "metadata": {
    "colab": {
     "base_uri": "https://localhost:8080/",
     "height": 439
    },
    "executionInfo": {
     "elapsed": 424,
     "status": "ok",
     "timestamp": 1607414517360,
     "user": {
      "displayName": "Mario Medina",
      "photoUrl": "",
      "userId": "06267997109573635573"
     },
     "user_tz": 480
    },
    "id": "9OHnKllO22qL",
    "outputId": "bc4a8a7a-dcf1-498c-ec6c-8515456c9341"
   },
   "outputs": [],
   "source": []
  },
  {
   "cell_type": "code",
   "execution_count": null,
   "metadata": {
    "id": "MbpiF7DtXrHd"
   },
   "outputs": [],
   "source": []
  },
  {
   "cell_type": "code",
   "execution_count": null,
   "metadata": {},
   "outputs": [],
   "source": []
  }
 ],
 "metadata": {
  "colab": {
   "collapsed_sections": [],
   "name": "models.ipynb",
   "version": ""
  },
  "kernelspec": {
   "display_name": "Python 3",
   "language": "python",
   "name": "python3"
  },
  "language_info": {
   "codemirror_mode": {
    "name": "ipython",
    "version": 3
   },
   "file_extension": ".py",
   "mimetype": "text/x-python",
   "name": "python",
   "nbconvert_exporter": "python",
   "pygments_lexer": "ipython3",
   "version": "3.8.3"
  }
 },
 "nbformat": 4,
 "nbformat_minor": 1
}
